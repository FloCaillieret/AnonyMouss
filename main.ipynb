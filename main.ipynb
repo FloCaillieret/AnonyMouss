{
 "cells": [
  {
   "cell_type": "markdown",
   "source": [
    "<h1>Partie 1: Importation des différents package<h1>"
   ],
   "metadata": {
    "collapsed": false,
    "pycharm": {
     "name": "#%% md\n"
    }
   }
  },
  {
   "cell_type": "code",
   "execution_count": 1,
   "outputs": [],
   "source": [
    "import numpy as np\n",
    "import pandas as pd\n",
    "from sklearn.preprocessing import StandardScaler"
   ],
   "metadata": {
    "collapsed": false,
    "pycharm": {
     "name": "#%%\n"
    }
   }
  },
  {
   "cell_type": "markdown",
   "source": [
    "<h1>Partie 2.1: Traitement des données<h1>"
   ],
   "metadata": {
    "collapsed": false,
    "pycharm": {
     "name": "#%% md\n"
    }
   }
  },
  {
   "cell_type": "markdown",
   "source": [
    "<h2>Importation des données sources et anonymes<h2>"
   ],
   "metadata": {
    "collapsed": false,
    "pycharm": {
     "name": "#%% md\n"
    }
   }
  },
  {
   "cell_type": "code",
   "execution_count": 2,
   "outputs": [],
   "source": [
    "N = 100_000_000\n",
    "separator = '\\t'\n",
    "base_folder = 'data/'\n",
    "group_folder = 'Moi/'\n",
    "file = \"1\"\n",
    "\n",
    "dsource_file = base_folder + 'donnees_sources'\n",
    "dtarget_file = base_folder + group_folder + 'donnees_anonymes' + file\n",
    "\n",
    "attack_file = base_folder + group_folder + 'fichier_attaque' + file + '.json'"
   ],
   "metadata": {
    "collapsed": false,
    "pycharm": {
     "name": "#%%\n"
    }
   }
  },
  {
   "cell_type": "code",
   "execution_count": 5,
   "outputs": [
    {
     "data": {
      "text/plain": "   1  2015-03-04 00:35:16  4.87014666666667   45.77214\n0  1  2015-03-04 00:35:48          4.870218  45.772095\n1  1  2015-03-04 00:35:49          4.870210  45.772072\n2  1  2015-03-04 00:35:50          4.870210  45.772072\n3  1  2015-03-04 00:35:52          4.870210  45.772072\n4  1  2015-03-04 00:35:54          4.870210  45.772072\n5  1  2015-03-04 00:35:55          4.870210  45.772072\n6  1  2015-03-04 00:35:56          4.870210  45.772072\n7  1  2015-03-04 00:35:58          4.870210  45.772072\n8  1  2015-03-04 00:35:59          4.870210  45.772072\n9  1  2015-03-04 00:36:01          4.870210  45.772072",
      "text/html": "<div>\n<style scoped>\n    .dataframe tbody tr th:only-of-type {\n        vertical-align: middle;\n    }\n\n    .dataframe tbody tr th {\n        vertical-align: top;\n    }\n\n    .dataframe thead th {\n        text-align: right;\n    }\n</style>\n<table border=\"1\" class=\"dataframe\">\n  <thead>\n    <tr style=\"text-align: right;\">\n      <th></th>\n      <th>1</th>\n      <th>2015-03-04 00:35:16</th>\n      <th>4.87014666666667</th>\n      <th>45.77214</th>\n    </tr>\n  </thead>\n  <tbody>\n    <tr>\n      <th>0</th>\n      <td>1</td>\n      <td>2015-03-04 00:35:48</td>\n      <td>4.870218</td>\n      <td>45.772095</td>\n    </tr>\n    <tr>\n      <th>1</th>\n      <td>1</td>\n      <td>2015-03-04 00:35:49</td>\n      <td>4.870210</td>\n      <td>45.772072</td>\n    </tr>\n    <tr>\n      <th>2</th>\n      <td>1</td>\n      <td>2015-03-04 00:35:50</td>\n      <td>4.870210</td>\n      <td>45.772072</td>\n    </tr>\n    <tr>\n      <th>3</th>\n      <td>1</td>\n      <td>2015-03-04 00:35:52</td>\n      <td>4.870210</td>\n      <td>45.772072</td>\n    </tr>\n    <tr>\n      <th>4</th>\n      <td>1</td>\n      <td>2015-03-04 00:35:54</td>\n      <td>4.870210</td>\n      <td>45.772072</td>\n    </tr>\n    <tr>\n      <th>5</th>\n      <td>1</td>\n      <td>2015-03-04 00:35:55</td>\n      <td>4.870210</td>\n      <td>45.772072</td>\n    </tr>\n    <tr>\n      <th>6</th>\n      <td>1</td>\n      <td>2015-03-04 00:35:56</td>\n      <td>4.870210</td>\n      <td>45.772072</td>\n    </tr>\n    <tr>\n      <th>7</th>\n      <td>1</td>\n      <td>2015-03-04 00:35:58</td>\n      <td>4.870210</td>\n      <td>45.772072</td>\n    </tr>\n    <tr>\n      <th>8</th>\n      <td>1</td>\n      <td>2015-03-04 00:35:59</td>\n      <td>4.870210</td>\n      <td>45.772072</td>\n    </tr>\n    <tr>\n      <th>9</th>\n      <td>1</td>\n      <td>2015-03-04 00:36:01</td>\n      <td>4.870210</td>\n      <td>45.772072</td>\n    </tr>\n  </tbody>\n</table>\n</div>"
     },
     "execution_count": 5,
     "metadata": {},
     "output_type": "execute_result"
    }
   ],
   "source": [
    "dsource = pd.read_csv(dsource_file, nrows=N, sep=separator)\n",
    "dsource.head(10)"
   ],
   "metadata": {
    "collapsed": false,
    "pycharm": {
     "name": "#%%\n"
    }
   }
  },
  {
   "cell_type": "code",
   "execution_count": 4,
   "outputs": [
    {
     "data": {
      "text/plain": "    0  69  2015-03-10 06:53:21  4.59  45.82  DEL\n0   1  66  2015-03-20 20:49:17  4.84  45.73  NaN\n1   2  68  2015-03-08 02:00:09  2.16  41.41  DEL\n2   3  24  2015-05-11 03:28:42  4.86  45.76  NaN\n3   4  29  2015-03-28 12:35:21  4.86  45.76  NaN\n4   5  87  2015-03-09 20:47:15  4.87  45.78  DEL\n5   6  36  2015-03-09 17:35:32  4.87  45.78  DEL\n6   7   9  2015-03-05 19:58:04  4.87  45.76  DEL\n7   8  87  2015-04-13 19:18:54  5.15  45.63  NaN\n8   9  67  2015-04-27 11:07:23  4.88  45.79  NaN\n9  10  89  2015-03-07 23:18:28  4.84  45.77  NaN",
      "text/html": "<div>\n<style scoped>\n    .dataframe tbody tr th:only-of-type {\n        vertical-align: middle;\n    }\n\n    .dataframe tbody tr th {\n        vertical-align: top;\n    }\n\n    .dataframe thead th {\n        text-align: right;\n    }\n</style>\n<table border=\"1\" class=\"dataframe\">\n  <thead>\n    <tr style=\"text-align: right;\">\n      <th></th>\n      <th>0</th>\n      <th>69</th>\n      <th>2015-03-10 06:53:21</th>\n      <th>4.59</th>\n      <th>45.82</th>\n      <th>DEL</th>\n    </tr>\n  </thead>\n  <tbody>\n    <tr>\n      <th>0</th>\n      <td>1</td>\n      <td>66</td>\n      <td>2015-03-20 20:49:17</td>\n      <td>4.84</td>\n      <td>45.73</td>\n      <td>NaN</td>\n    </tr>\n    <tr>\n      <th>1</th>\n      <td>2</td>\n      <td>68</td>\n      <td>2015-03-08 02:00:09</td>\n      <td>2.16</td>\n      <td>41.41</td>\n      <td>DEL</td>\n    </tr>\n    <tr>\n      <th>2</th>\n      <td>3</td>\n      <td>24</td>\n      <td>2015-05-11 03:28:42</td>\n      <td>4.86</td>\n      <td>45.76</td>\n      <td>NaN</td>\n    </tr>\n    <tr>\n      <th>3</th>\n      <td>4</td>\n      <td>29</td>\n      <td>2015-03-28 12:35:21</td>\n      <td>4.86</td>\n      <td>45.76</td>\n      <td>NaN</td>\n    </tr>\n    <tr>\n      <th>4</th>\n      <td>5</td>\n      <td>87</td>\n      <td>2015-03-09 20:47:15</td>\n      <td>4.87</td>\n      <td>45.78</td>\n      <td>DEL</td>\n    </tr>\n    <tr>\n      <th>5</th>\n      <td>6</td>\n      <td>36</td>\n      <td>2015-03-09 17:35:32</td>\n      <td>4.87</td>\n      <td>45.78</td>\n      <td>DEL</td>\n    </tr>\n    <tr>\n      <th>6</th>\n      <td>7</td>\n      <td>9</td>\n      <td>2015-03-05 19:58:04</td>\n      <td>4.87</td>\n      <td>45.76</td>\n      <td>DEL</td>\n    </tr>\n    <tr>\n      <th>7</th>\n      <td>8</td>\n      <td>87</td>\n      <td>2015-04-13 19:18:54</td>\n      <td>5.15</td>\n      <td>45.63</td>\n      <td>NaN</td>\n    </tr>\n    <tr>\n      <th>8</th>\n      <td>9</td>\n      <td>67</td>\n      <td>2015-04-27 11:07:23</td>\n      <td>4.88</td>\n      <td>45.79</td>\n      <td>NaN</td>\n    </tr>\n    <tr>\n      <th>9</th>\n      <td>10</td>\n      <td>89</td>\n      <td>2015-03-07 23:18:28</td>\n      <td>4.84</td>\n      <td>45.77</td>\n      <td>NaN</td>\n    </tr>\n  </tbody>\n</table>\n</div>"
     },
     "execution_count": 4,
     "metadata": {},
     "output_type": "execute_result"
    }
   ],
   "source": [
    "dtarget = pd.read_csv(dtarget_file, nrows=N, sep=separator)\n",
    "dtarget.head(10)"
   ],
   "metadata": {
    "collapsed": false,
    "pycharm": {
     "name": "#%%\n"
    }
   }
  },
  {
   "cell_type": "markdown",
   "source": [
    "<h2>Mise en forme des données<h2>"
   ],
   "metadata": {
    "collapsed": false,
    "pycharm": {
     "name": "#%% md\n"
    }
   }
  },
  {
   "cell_type": "code",
   "execution_count": 8,
   "outputs": [
    {
     "data": {
      "text/plain": "   id                date       lat       long week_year  year week\n0   1 2015-03-04 00:35:48  4.870218  45.772095   2015-09  2015   09\n1   1 2015-03-04 00:35:49  4.870210  45.772072   2015-09  2015   09\n2   1 2015-03-04 00:35:50  4.870210  45.772072   2015-09  2015   09\n3   1 2015-03-04 00:35:52  4.870210  45.772072   2015-09  2015   09\n4   1 2015-03-04 00:35:54  4.870210  45.772072   2015-09  2015   09\n5   1 2015-03-04 00:35:55  4.870210  45.772072   2015-09  2015   09\n6   1 2015-03-04 00:35:56  4.870210  45.772072   2015-09  2015   09\n7   1 2015-03-04 00:35:58  4.870210  45.772072   2015-09  2015   09\n8   1 2015-03-04 00:35:59  4.870210  45.772072   2015-09  2015   09\n9   1 2015-03-04 00:36:01  4.870210  45.772072   2015-09  2015   09",
      "text/html": "<div>\n<style scoped>\n    .dataframe tbody tr th:only-of-type {\n        vertical-align: middle;\n    }\n\n    .dataframe tbody tr th {\n        vertical-align: top;\n    }\n\n    .dataframe thead th {\n        text-align: right;\n    }\n</style>\n<table border=\"1\" class=\"dataframe\">\n  <thead>\n    <tr style=\"text-align: right;\">\n      <th></th>\n      <th>id</th>\n      <th>date</th>\n      <th>lat</th>\n      <th>long</th>\n      <th>week_year</th>\n      <th>year</th>\n      <th>week</th>\n    </tr>\n  </thead>\n  <tbody>\n    <tr>\n      <th>0</th>\n      <td>1</td>\n      <td>2015-03-04 00:35:48</td>\n      <td>4.870218</td>\n      <td>45.772095</td>\n      <td>2015-09</td>\n      <td>2015</td>\n      <td>09</td>\n    </tr>\n    <tr>\n      <th>1</th>\n      <td>1</td>\n      <td>2015-03-04 00:35:49</td>\n      <td>4.870210</td>\n      <td>45.772072</td>\n      <td>2015-09</td>\n      <td>2015</td>\n      <td>09</td>\n    </tr>\n    <tr>\n      <th>2</th>\n      <td>1</td>\n      <td>2015-03-04 00:35:50</td>\n      <td>4.870210</td>\n      <td>45.772072</td>\n      <td>2015-09</td>\n      <td>2015</td>\n      <td>09</td>\n    </tr>\n    <tr>\n      <th>3</th>\n      <td>1</td>\n      <td>2015-03-04 00:35:52</td>\n      <td>4.870210</td>\n      <td>45.772072</td>\n      <td>2015-09</td>\n      <td>2015</td>\n      <td>09</td>\n    </tr>\n    <tr>\n      <th>4</th>\n      <td>1</td>\n      <td>2015-03-04 00:35:54</td>\n      <td>4.870210</td>\n      <td>45.772072</td>\n      <td>2015-09</td>\n      <td>2015</td>\n      <td>09</td>\n    </tr>\n    <tr>\n      <th>5</th>\n      <td>1</td>\n      <td>2015-03-04 00:35:55</td>\n      <td>4.870210</td>\n      <td>45.772072</td>\n      <td>2015-09</td>\n      <td>2015</td>\n      <td>09</td>\n    </tr>\n    <tr>\n      <th>6</th>\n      <td>1</td>\n      <td>2015-03-04 00:35:56</td>\n      <td>4.870210</td>\n      <td>45.772072</td>\n      <td>2015-09</td>\n      <td>2015</td>\n      <td>09</td>\n    </tr>\n    <tr>\n      <th>7</th>\n      <td>1</td>\n      <td>2015-03-04 00:35:58</td>\n      <td>4.870210</td>\n      <td>45.772072</td>\n      <td>2015-09</td>\n      <td>2015</td>\n      <td>09</td>\n    </tr>\n    <tr>\n      <th>8</th>\n      <td>1</td>\n      <td>2015-03-04 00:35:59</td>\n      <td>4.870210</td>\n      <td>45.772072</td>\n      <td>2015-09</td>\n      <td>2015</td>\n      <td>09</td>\n    </tr>\n    <tr>\n      <th>9</th>\n      <td>1</td>\n      <td>2015-03-04 00:36:01</td>\n      <td>4.870210</td>\n      <td>45.772072</td>\n      <td>2015-09</td>\n      <td>2015</td>\n      <td>09</td>\n    </tr>\n  </tbody>\n</table>\n</div>"
     },
     "execution_count": 8,
     "metadata": {},
     "output_type": "execute_result"
    }
   ],
   "source": [
    "dsource.columns = ['id', 'date', 'lat', 'long']\n",
    "\n",
    "dsource['id'] = dsource['id'].astype('int64')\n",
    "\n",
    "dsource['lat'] = pd.to_numeric(dsource['lat']).clip(lower=-90, upper=90)\n",
    "dsource['long'] = pd.to_numeric(dsource['long']).clip(lower=-180, upper=180)\n",
    "\n",
    "dsource['date'] = pd.to_datetime(dsource['date'])\n",
    "dsource['timestamp'] = (dsource['date'] - pd.Timestamp(\"1970-01-01\")) // pd.Timedelta('1s')\n",
    "\n",
    "dsource['week_year'] = dsource['date'].dt.strftime('%Y-%U')\n",
    "\n",
    "dsource.head(10)"
   ],
   "metadata": {
    "collapsed": false,
    "pycharm": {
     "name": "#%%\n"
    }
   }
  },
  {
   "cell_type": "code",
   "execution_count": 9,
   "outputs": [
    {
     "name": "stdout",
     "output_type": "stream",
     "text": [
      "id int64\n",
      "date datetime64[ns]\n",
      "lat float64\n",
      "long float64\n",
      "week_year object\n"
     ]
    }
   ],
   "source": [
    "for col in ['id', 'date', 'lat', 'long', 'week_year']:\n",
    "    print(col, dsource[col].dtype)"
   ],
   "metadata": {
    "collapsed": false,
    "pycharm": {
     "name": "#%%\n"
    }
   }
  },
  {
   "cell_type": "code",
   "execution_count": 11,
   "outputs": [
    {
     "data": {
      "text/plain": "    id                date   lat   long   timestamp week_year\n0   66 2015-03-20 20:49:17  4.84  45.73  1426884557   2015-11\n2   24 2015-05-11 03:28:42  4.86  45.76  1431314922   2015-19\n3   29 2015-03-28 12:35:21  4.86  45.76  1427546121   2015-12\n7   87 2015-04-13 19:18:54  5.15  45.63  1428952734   2015-15\n8   67 2015-04-27 11:07:23  4.88  45.79  1430132843   2015-17\n9   89 2015-03-07 23:18:28  4.84  45.77  1425770308   2015-09\n13  42 2015-05-01 15:20:28  4.76  46.00  1430493628   2015-17\n16  32 2015-03-27 19:23:37  4.93  45.78  1427484217   2015-12\n19  51 2015-03-18 06:01:41  4.87  45.79  1426658501   2015-11\n20  55 2015-03-17 16:34:05  4.93  45.78  1426610045   2015-11",
      "text/html": "<div>\n<style scoped>\n    .dataframe tbody tr th:only-of-type {\n        vertical-align: middle;\n    }\n\n    .dataframe tbody tr th {\n        vertical-align: top;\n    }\n\n    .dataframe thead th {\n        text-align: right;\n    }\n</style>\n<table border=\"1\" class=\"dataframe\">\n  <thead>\n    <tr style=\"text-align: right;\">\n      <th></th>\n      <th>id</th>\n      <th>date</th>\n      <th>lat</th>\n      <th>long</th>\n      <th>timestamp</th>\n      <th>week_year</th>\n    </tr>\n  </thead>\n  <tbody>\n    <tr>\n      <th>0</th>\n      <td>66</td>\n      <td>2015-03-20 20:49:17</td>\n      <td>4.84</td>\n      <td>45.73</td>\n      <td>1426884557</td>\n      <td>2015-11</td>\n    </tr>\n    <tr>\n      <th>2</th>\n      <td>24</td>\n      <td>2015-05-11 03:28:42</td>\n      <td>4.86</td>\n      <td>45.76</td>\n      <td>1431314922</td>\n      <td>2015-19</td>\n    </tr>\n    <tr>\n      <th>3</th>\n      <td>29</td>\n      <td>2015-03-28 12:35:21</td>\n      <td>4.86</td>\n      <td>45.76</td>\n      <td>1427546121</td>\n      <td>2015-12</td>\n    </tr>\n    <tr>\n      <th>7</th>\n      <td>87</td>\n      <td>2015-04-13 19:18:54</td>\n      <td>5.15</td>\n      <td>45.63</td>\n      <td>1428952734</td>\n      <td>2015-15</td>\n    </tr>\n    <tr>\n      <th>8</th>\n      <td>67</td>\n      <td>2015-04-27 11:07:23</td>\n      <td>4.88</td>\n      <td>45.79</td>\n      <td>1430132843</td>\n      <td>2015-17</td>\n    </tr>\n    <tr>\n      <th>9</th>\n      <td>89</td>\n      <td>2015-03-07 23:18:28</td>\n      <td>4.84</td>\n      <td>45.77</td>\n      <td>1425770308</td>\n      <td>2015-09</td>\n    </tr>\n    <tr>\n      <th>13</th>\n      <td>42</td>\n      <td>2015-05-01 15:20:28</td>\n      <td>4.76</td>\n      <td>46.00</td>\n      <td>1430493628</td>\n      <td>2015-17</td>\n    </tr>\n    <tr>\n      <th>16</th>\n      <td>32</td>\n      <td>2015-03-27 19:23:37</td>\n      <td>4.93</td>\n      <td>45.78</td>\n      <td>1427484217</td>\n      <td>2015-12</td>\n    </tr>\n    <tr>\n      <th>19</th>\n      <td>51</td>\n      <td>2015-03-18 06:01:41</td>\n      <td>4.87</td>\n      <td>45.79</td>\n      <td>1426658501</td>\n      <td>2015-11</td>\n    </tr>\n    <tr>\n      <th>20</th>\n      <td>55</td>\n      <td>2015-03-17 16:34:05</td>\n      <td>4.93</td>\n      <td>45.78</td>\n      <td>1426610045</td>\n      <td>2015-11</td>\n    </tr>\n  </tbody>\n</table>\n</div>"
     },
     "execution_count": 11,
     "metadata": {},
     "output_type": "execute_result"
    }
   ],
   "source": [
    "dtarget.columns = ['id', 'date', 'lat', 'long']\n",
    "dtarget = dtarget[~(dtarget == 'DEL').any(axis=1)]\n",
    "\n",
    "dtarget['id'] = dtarget['id'].astype('int64')\n",
    "\n",
    "dtarget['lat'] = pd.to_numeric(dtarget['lat'], errors='coerce').clip(lower=-90, upper=90)\n",
    "dtarget['long'] = pd.to_numeric(dtarget['long'], errors='coerce').clip(lower=-180, upper=180)\n",
    "\n",
    "dtarget['date'] = pd.to_datetime(dtarget['date'])\n",
    "dtarget['timestamp'] = (dtarget['date'] - pd.Timestamp(\"1970-01-01\")) // pd.Timedelta('1s')\n",
    "\n",
    "dtarget['week_year'] = dtarget['date'].dt.strftime('%Y-%U')\n",
    "\n",
    "dtarget.head(10)"
   ],
   "metadata": {
    "collapsed": false,
    "pycharm": {
     "name": "#%%\n"
    }
   }
  },
  {
   "cell_type": "code",
   "execution_count": 12,
   "outputs": [
    {
     "name": "stdout",
     "output_type": "stream",
     "text": [
      "id int64\n",
      "date datetime64[ns]\n",
      "lat float64\n",
      "long float64\n",
      "week_year object\n"
     ]
    }
   ],
   "source": [
    "for col in ['id', 'date', 'lat', 'long', 'week_year']:\n",
    "    print(col, dtarget[col].dtype)"
   ],
   "metadata": {
    "collapsed": false,
    "pycharm": {
     "name": "#%%\n"
    }
   }
  },
  {
   "cell_type": "markdown",
   "source": [
    "<h2>Enregistrement des données<h2>"
   ],
   "metadata": {
    "collapsed": false,
    "pycharm": {
     "name": "#%% md\n"
    }
   }
  },
  {
   "cell_type": "code",
   "execution_count": 19,
   "outputs": [],
   "source": [
    "dsource.to_pickle(dsource_file + '.pkl')"
   ],
   "metadata": {
    "collapsed": false,
    "pycharm": {
     "name": "#%%\n"
    }
   }
  },
  {
   "cell_type": "code",
   "execution_count": 14,
   "outputs": [],
   "source": [
    "dtarget.to_pickle(dtarget_file + '.pkl')"
   ],
   "metadata": {
    "collapsed": false,
    "pycharm": {
     "name": "#%%\n"
    }
   }
  },
  {
   "cell_type": "markdown",
   "source": [
    "<h1>Partie 2.2: Chargement des données (optionnel si les données sont déjà chargées)<h1>"
   ],
   "metadata": {
    "collapsed": false,
    "pycharm": {
     "name": "#%% md\n"
    }
   }
  },
  {
   "cell_type": "code",
   "execution_count": 15,
   "outputs": [],
   "source": [
    "dsource = pd.read_pickle(dsource_file + '.pkl')"
   ],
   "metadata": {
    "collapsed": false,
    "pycharm": {
     "name": "#%%\n"
    }
   }
  },
  {
   "cell_type": "code",
   "execution_count": 12,
   "outputs": [],
   "source": [
    "dtarget = pd.read_pickle(dtarget_file + '.pkl')"
   ],
   "metadata": {
    "collapsed": false,
    "pycharm": {
     "name": "#%%\n"
    }
   }
  },
  {
   "cell_type": "markdown",
   "source": [
    "<h1>Partie 3: Algorithme PCA et KNN<h1>"
   ],
   "metadata": {
    "collapsed": false,
    "pycharm": {
     "name": "#%% md\n"
    }
   }
  },
  {
   "cell_type": "code",
   "execution_count": 16,
   "metadata": {
    "collapsed": true,
    "pycharm": {
     "name": "#%%\n"
    }
   },
   "outputs": [],
   "source": [
    "from sklearn.compose import ColumnTransformer\n",
    "from sklearn.decomposition import PCA\n",
    "from sklearn.pipeline import Pipeline\n",
    "\n",
    "features = ['timestamp', 'lat', 'long']\n",
    "\n",
    "preprocessor = ColumnTransformer(\n",
    "    transformers=[\n",
    "        ('num', StandardScaler(), ['timestamp', 'lat', 'long'])\n",
    "    ],\n",
    "    remainder='passthrough'\n",
    ")\n",
    "\n",
    "pipeline = Pipeline([\n",
    "    ('preprocessor', preprocessor),\n",
    "    ('pca', PCA(n_components=3))\n",
    "])"
   ]
  },
  {
   "cell_type": "code",
   "execution_count": 20,
   "outputs": [
    {
     "data": {
      "text/plain": "Pipeline(steps=[('preprocessor',\n                 ColumnTransformer(remainder='passthrough',\n                                   transformers=[('num', StandardScaler(),\n                                                  ['timestamp', 'lat',\n                                                   'long'])])),\n                ('pca', PCA(n_components=3))])",
      "text/html": "<style>#sk-container-id-1 {color: black;}#sk-container-id-1 pre{padding: 0;}#sk-container-id-1 div.sk-toggleable {background-color: white;}#sk-container-id-1 label.sk-toggleable__label {cursor: pointer;display: block;width: 100%;margin-bottom: 0;padding: 0.3em;box-sizing: border-box;text-align: center;}#sk-container-id-1 label.sk-toggleable__label-arrow:before {content: \"▸\";float: left;margin-right: 0.25em;color: #696969;}#sk-container-id-1 label.sk-toggleable__label-arrow:hover:before {color: black;}#sk-container-id-1 div.sk-estimator:hover label.sk-toggleable__label-arrow:before {color: black;}#sk-container-id-1 div.sk-toggleable__content {max-height: 0;max-width: 0;overflow: hidden;text-align: left;background-color: #f0f8ff;}#sk-container-id-1 div.sk-toggleable__content pre {margin: 0.2em;color: black;border-radius: 0.25em;background-color: #f0f8ff;}#sk-container-id-1 input.sk-toggleable__control:checked~div.sk-toggleable__content {max-height: 200px;max-width: 100%;overflow: auto;}#sk-container-id-1 input.sk-toggleable__control:checked~label.sk-toggleable__label-arrow:before {content: \"▾\";}#sk-container-id-1 div.sk-estimator input.sk-toggleable__control:checked~label.sk-toggleable__label {background-color: #d4ebff;}#sk-container-id-1 div.sk-label input.sk-toggleable__control:checked~label.sk-toggleable__label {background-color: #d4ebff;}#sk-container-id-1 input.sk-hidden--visually {border: 0;clip: rect(1px 1px 1px 1px);clip: rect(1px, 1px, 1px, 1px);height: 1px;margin: -1px;overflow: hidden;padding: 0;position: absolute;width: 1px;}#sk-container-id-1 div.sk-estimator {font-family: monospace;background-color: #f0f8ff;border: 1px dotted black;border-radius: 0.25em;box-sizing: border-box;margin-bottom: 0.5em;}#sk-container-id-1 div.sk-estimator:hover {background-color: #d4ebff;}#sk-container-id-1 div.sk-parallel-item::after {content: \"\";width: 100%;border-bottom: 1px solid gray;flex-grow: 1;}#sk-container-id-1 div.sk-label:hover label.sk-toggleable__label {background-color: #d4ebff;}#sk-container-id-1 div.sk-serial::before {content: \"\";position: absolute;border-left: 1px solid gray;box-sizing: border-box;top: 0;bottom: 0;left: 50%;z-index: 0;}#sk-container-id-1 div.sk-serial {display: flex;flex-direction: column;align-items: center;background-color: white;padding-right: 0.2em;padding-left: 0.2em;position: relative;}#sk-container-id-1 div.sk-item {position: relative;z-index: 1;}#sk-container-id-1 div.sk-parallel {display: flex;align-items: stretch;justify-content: center;background-color: white;position: relative;}#sk-container-id-1 div.sk-item::before, #sk-container-id-1 div.sk-parallel-item::before {content: \"\";position: absolute;border-left: 1px solid gray;box-sizing: border-box;top: 0;bottom: 0;left: 50%;z-index: -1;}#sk-container-id-1 div.sk-parallel-item {display: flex;flex-direction: column;z-index: 1;position: relative;background-color: white;}#sk-container-id-1 div.sk-parallel-item:first-child::after {align-self: flex-end;width: 50%;}#sk-container-id-1 div.sk-parallel-item:last-child::after {align-self: flex-start;width: 50%;}#sk-container-id-1 div.sk-parallel-item:only-child::after {width: 0;}#sk-container-id-1 div.sk-dashed-wrapped {border: 1px dashed gray;margin: 0 0.4em 0.5em 0.4em;box-sizing: border-box;padding-bottom: 0.4em;background-color: white;}#sk-container-id-1 div.sk-label label {font-family: monospace;font-weight: bold;display: inline-block;line-height: 1.2em;}#sk-container-id-1 div.sk-label-container {text-align: center;}#sk-container-id-1 div.sk-container {/* jupyter's `normalize.less` sets `[hidden] { display: none; }` but bootstrap.min.css set `[hidden] { display: none !important; }` so we also need the `!important` here to be able to override the default hidden behavior on the sphinx rendered scikit-learn.org. See: https://github.com/scikit-learn/scikit-learn/issues/21755 */display: inline-block !important;position: relative;}#sk-container-id-1 div.sk-text-repr-fallback {display: none;}</style><div id=\"sk-container-id-1\" class=\"sk-top-container\"><div class=\"sk-text-repr-fallback\"><pre>Pipeline(steps=[(&#x27;preprocessor&#x27;,\n                 ColumnTransformer(remainder=&#x27;passthrough&#x27;,\n                                   transformers=[(&#x27;num&#x27;, StandardScaler(),\n                                                  [&#x27;timestamp&#x27;, &#x27;lat&#x27;,\n                                                   &#x27;long&#x27;])])),\n                (&#x27;pca&#x27;, PCA(n_components=3))])</pre><b>In a Jupyter environment, please rerun this cell to show the HTML representation or trust the notebook. <br />On GitHub, the HTML representation is unable to render, please try loading this page with nbviewer.org.</b></div><div class=\"sk-container\" hidden><div class=\"sk-item sk-dashed-wrapped\"><div class=\"sk-label-container\"><div class=\"sk-label sk-toggleable\"><input class=\"sk-toggleable__control sk-hidden--visually\" id=\"sk-estimator-id-1\" type=\"checkbox\" ><label for=\"sk-estimator-id-1\" class=\"sk-toggleable__label sk-toggleable__label-arrow\">Pipeline</label><div class=\"sk-toggleable__content\"><pre>Pipeline(steps=[(&#x27;preprocessor&#x27;,\n                 ColumnTransformer(remainder=&#x27;passthrough&#x27;,\n                                   transformers=[(&#x27;num&#x27;, StandardScaler(),\n                                                  [&#x27;timestamp&#x27;, &#x27;lat&#x27;,\n                                                   &#x27;long&#x27;])])),\n                (&#x27;pca&#x27;, PCA(n_components=3))])</pre></div></div></div><div class=\"sk-serial\"><div class=\"sk-item sk-dashed-wrapped\"><div class=\"sk-label-container\"><div class=\"sk-label sk-toggleable\"><input class=\"sk-toggleable__control sk-hidden--visually\" id=\"sk-estimator-id-2\" type=\"checkbox\" ><label for=\"sk-estimator-id-2\" class=\"sk-toggleable__label sk-toggleable__label-arrow\">preprocessor: ColumnTransformer</label><div class=\"sk-toggleable__content\"><pre>ColumnTransformer(remainder=&#x27;passthrough&#x27;,\n                  transformers=[(&#x27;num&#x27;, StandardScaler(),\n                                 [&#x27;timestamp&#x27;, &#x27;lat&#x27;, &#x27;long&#x27;])])</pre></div></div></div><div class=\"sk-parallel\"><div class=\"sk-parallel-item\"><div class=\"sk-item\"><div class=\"sk-label-container\"><div class=\"sk-label sk-toggleable\"><input class=\"sk-toggleable__control sk-hidden--visually\" id=\"sk-estimator-id-3\" type=\"checkbox\" ><label for=\"sk-estimator-id-3\" class=\"sk-toggleable__label sk-toggleable__label-arrow\">num</label><div class=\"sk-toggleable__content\"><pre>[&#x27;timestamp&#x27;, &#x27;lat&#x27;, &#x27;long&#x27;]</pre></div></div></div><div class=\"sk-serial\"><div class=\"sk-item\"><div class=\"sk-estimator sk-toggleable\"><input class=\"sk-toggleable__control sk-hidden--visually\" id=\"sk-estimator-id-4\" type=\"checkbox\" ><label for=\"sk-estimator-id-4\" class=\"sk-toggleable__label sk-toggleable__label-arrow\">StandardScaler</label><div class=\"sk-toggleable__content\"><pre>StandardScaler()</pre></div></div></div></div></div></div><div class=\"sk-parallel-item\"><div class=\"sk-item\"><div class=\"sk-label-container\"><div class=\"sk-label sk-toggleable\"><input class=\"sk-toggleable__control sk-hidden--visually\" id=\"sk-estimator-id-5\" type=\"checkbox\" ><label for=\"sk-estimator-id-5\" class=\"sk-toggleable__label sk-toggleable__label-arrow\">remainder</label><div class=\"sk-toggleable__content\"><pre>[]</pre></div></div></div><div class=\"sk-serial\"><div class=\"sk-item\"><div class=\"sk-estimator sk-toggleable\"><input class=\"sk-toggleable__control sk-hidden--visually\" id=\"sk-estimator-id-6\" type=\"checkbox\" ><label for=\"sk-estimator-id-6\" class=\"sk-toggleable__label sk-toggleable__label-arrow\">passthrough</label><div class=\"sk-toggleable__content\"><pre>passthrough</pre></div></div></div></div></div></div></div></div><div class=\"sk-item\"><div class=\"sk-estimator sk-toggleable\"><input class=\"sk-toggleable__control sk-hidden--visually\" id=\"sk-estimator-id-7\" type=\"checkbox\" ><label for=\"sk-estimator-id-7\" class=\"sk-toggleable__label sk-toggleable__label-arrow\">PCA</label><div class=\"sk-toggleable__content\"><pre>PCA(n_components=3)</pre></div></div></div></div></div></div></div>"
     },
     "execution_count": 20,
     "metadata": {},
     "output_type": "execute_result"
    }
   ],
   "source": [
    "pipeline.fit(dsource[features])"
   ],
   "metadata": {
    "collapsed": false,
    "pycharm": {
     "name": "#%%\n"
    }
   }
  },
  {
   "cell_type": "code",
   "execution_count": 21,
   "outputs": [
    {
     "name": "stdout",
     "output_type": "stream",
     "text": [
      "Explained Variance Ratio: [0.44418831 0.33734834 0.21846335]\n"
     ]
    }
   ],
   "source": [
    "explained_variance = pipeline.named_steps['pca'].explained_variance_ratio_\n",
    "print(\"Explained Variance Ratio:\", explained_variance)"
   ],
   "metadata": {
    "collapsed": false,
    "pycharm": {
     "name": "#%%\n"
    }
   }
  },
  {
   "cell_type": "code",
   "execution_count": 22,
   "outputs": [],
   "source": [
    "source_embedding = pipeline.transform(dsource[features])"
   ],
   "metadata": {
    "collapsed": false,
    "pycharm": {
     "name": "#%%\n"
    }
   }
  },
  {
   "cell_type": "code",
   "execution_count": 23,
   "outputs": [],
   "source": [
    "target_embedding = pipeline.transform(dtarget[features])"
   ],
   "metadata": {
    "collapsed": false,
    "pycharm": {
     "name": "#%%\n"
    }
   }
  },
  {
   "cell_type": "code",
   "execution_count": 25,
   "outputs": [],
   "source": [
    "from sklearn.neighbors import NearestNeighbors\n",
    "\n",
    "nn = NearestNeighbors(n_neighbors=1)\n",
    "nn.fit(source_embedding)\n",
    "_, index_list = nn.kneighbors(target_embedding)"
   ],
   "metadata": {
    "collapsed": false,
    "pycharm": {
     "name": "#%%\n"
    }
   }
  },
  {
   "cell_type": "markdown",
   "source": [
    "<h2>Enregistrement de la liste d'index<h2>"
   ],
   "metadata": {
    "collapsed": false,
    "pycharm": {
     "name": "#%% md\n"
    }
   }
  },
  {
   "cell_type": "code",
   "execution_count": 26,
   "outputs": [],
   "source": [
    "np.save(base_folder + group_folder + 'index_list.npy', index_list)"
   ],
   "metadata": {
    "collapsed": false,
    "pycharm": {
     "name": "#%%\n"
    }
   }
  },
  {
   "cell_type": "markdown",
   "source": [
    "<h2>Chargement de la liste d'index (optionnel si la liste est déjà chargée)<h2>"
   ],
   "metadata": {
    "collapsed": false,
    "pycharm": {
     "name": "#%% md\n"
    }
   }
  },
  {
   "cell_type": "code",
   "execution_count": null,
   "outputs": [],
   "source": [
    "index_list = np.load(base_folder + group_folder + 'index_list.npy')"
   ],
   "metadata": {
    "collapsed": false,
    "pycharm": {
     "name": "#%%\n"
    }
   }
  },
  {
   "cell_type": "markdown",
   "source": [
    "<h1>Partie 4: Corrélation entre les indices des données sources et des données anonymes<h1>"
   ],
   "metadata": {
    "collapsed": false,
    "pycharm": {
     "name": "#%% md\n"
    }
   }
  },
  {
   "cell_type": "markdown",
   "source": [
    "Récupération des indices sources en fonction des résultats du PCA"
   ],
   "metadata": {
    "collapsed": false,
    "pycharm": {
     "name": "#%% md\n"
    }
   }
  },
  {
   "cell_type": "code",
   "execution_count": 27,
   "outputs": [
    {
     "data": {
      "text/plain": "25817607    77\n29084580    72\n7721575     42\n3735304      6\n11160188    26\n2113912      9\n31718125    87\n10286271    13\n26335882    69\n4180571      7\nName: id, dtype: int64"
     },
     "execution_count": 27,
     "metadata": {},
     "output_type": "execute_result"
    }
   ],
   "source": [
    "dsource_ids = dsource.loc[index_list.squeeze(), 'id']\n",
    "dsource_ids.head(10)"
   ],
   "metadata": {
    "collapsed": false,
    "pycharm": {
     "name": "#%%\n"
    }
   }
  },
  {
   "cell_type": "markdown",
   "source": [
    "Ajout de la colonne de la correspondance des indices"
   ],
   "metadata": {
    "collapsed": false,
    "pycharm": {
     "name": "#%% md\n"
    }
   }
  },
  {
   "cell_type": "code",
   "execution_count": 28,
   "outputs": [
    {
     "data": {
      "text/plain": "    id week_year  source_id\n0   66   2015-11         77\n2   24   2015-19         72\n3   29   2015-12         42\n7   87   2015-15          6\n8   67   2015-17         26\n9   89   2015-09          9\n13  42   2015-17         87\n16  32   2015-12         13\n19  51   2015-11         69\n20  55   2015-11          7",
      "text/html": "<div>\n<style scoped>\n    .dataframe tbody tr th:only-of-type {\n        vertical-align: middle;\n    }\n\n    .dataframe tbody tr th {\n        vertical-align: top;\n    }\n\n    .dataframe thead th {\n        text-align: right;\n    }\n</style>\n<table border=\"1\" class=\"dataframe\">\n  <thead>\n    <tr style=\"text-align: right;\">\n      <th></th>\n      <th>id</th>\n      <th>week_year</th>\n      <th>source_id</th>\n    </tr>\n  </thead>\n  <tbody>\n    <tr>\n      <th>0</th>\n      <td>66</td>\n      <td>2015-11</td>\n      <td>77</td>\n    </tr>\n    <tr>\n      <th>2</th>\n      <td>24</td>\n      <td>2015-19</td>\n      <td>72</td>\n    </tr>\n    <tr>\n      <th>3</th>\n      <td>29</td>\n      <td>2015-12</td>\n      <td>42</td>\n    </tr>\n    <tr>\n      <th>7</th>\n      <td>87</td>\n      <td>2015-15</td>\n      <td>6</td>\n    </tr>\n    <tr>\n      <th>8</th>\n      <td>67</td>\n      <td>2015-17</td>\n      <td>26</td>\n    </tr>\n    <tr>\n      <th>9</th>\n      <td>89</td>\n      <td>2015-09</td>\n      <td>9</td>\n    </tr>\n    <tr>\n      <th>13</th>\n      <td>42</td>\n      <td>2015-17</td>\n      <td>87</td>\n    </tr>\n    <tr>\n      <th>16</th>\n      <td>32</td>\n      <td>2015-12</td>\n      <td>13</td>\n    </tr>\n    <tr>\n      <th>19</th>\n      <td>51</td>\n      <td>2015-11</td>\n      <td>69</td>\n    </tr>\n    <tr>\n      <th>20</th>\n      <td>55</td>\n      <td>2015-11</td>\n      <td>7</td>\n    </tr>\n  </tbody>\n</table>\n</div>"
     },
     "execution_count": 28,
     "metadata": {},
     "output_type": "execute_result"
    }
   ],
   "source": [
    "dtarget['source_id'] = np.array(dsource_ids)\n",
    "\n",
    "df = dtarget[['id', 'week_year', 'source_id']]\n",
    "df.head(10)"
   ],
   "metadata": {
    "collapsed": false,
    "pycharm": {
     "name": "#%%\n"
    }
   }
  },
  {
   "cell_type": "markdown",
   "source": [
    "Calcul du nombre d'occurence du tuple (id, week_year, source_id)"
   ],
   "metadata": {
    "collapsed": false,
    "pycharm": {
     "name": "#%% md\n"
    }
   }
  },
  {
   "cell_type": "code",
   "execution_count": 29,
   "outputs": [
    {
     "data": {
      "text/plain": "   id week_year  source_id  occurrences\n0  66   2015-11         77        14045\n1  24   2015-19         72        23175\n2  29   2015-12         42        38209\n3  87   2015-15          6       128122\n4  67   2015-17         26         4430\n5  89   2015-09          9        23974\n6  42   2015-17         87        40290\n7  32   2015-12         13        16428\n8  51   2015-11         69          306\n9  55   2015-11          7       120943",
      "text/html": "<div>\n<style scoped>\n    .dataframe tbody tr th:only-of-type {\n        vertical-align: middle;\n    }\n\n    .dataframe tbody tr th {\n        vertical-align: top;\n    }\n\n    .dataframe thead th {\n        text-align: right;\n    }\n</style>\n<table border=\"1\" class=\"dataframe\">\n  <thead>\n    <tr style=\"text-align: right;\">\n      <th></th>\n      <th>id</th>\n      <th>week_year</th>\n      <th>source_id</th>\n      <th>occurrences</th>\n    </tr>\n  </thead>\n  <tbody>\n    <tr>\n      <th>0</th>\n      <td>66</td>\n      <td>2015-11</td>\n      <td>77</td>\n      <td>14045</td>\n    </tr>\n    <tr>\n      <th>1</th>\n      <td>24</td>\n      <td>2015-19</td>\n      <td>72</td>\n      <td>23175</td>\n    </tr>\n    <tr>\n      <th>2</th>\n      <td>29</td>\n      <td>2015-12</td>\n      <td>42</td>\n      <td>38209</td>\n    </tr>\n    <tr>\n      <th>3</th>\n      <td>87</td>\n      <td>2015-15</td>\n      <td>6</td>\n      <td>128122</td>\n    </tr>\n    <tr>\n      <th>4</th>\n      <td>67</td>\n      <td>2015-17</td>\n      <td>26</td>\n      <td>4430</td>\n    </tr>\n    <tr>\n      <th>5</th>\n      <td>89</td>\n      <td>2015-09</td>\n      <td>9</td>\n      <td>23974</td>\n    </tr>\n    <tr>\n      <th>6</th>\n      <td>42</td>\n      <td>2015-17</td>\n      <td>87</td>\n      <td>40290</td>\n    </tr>\n    <tr>\n      <th>7</th>\n      <td>32</td>\n      <td>2015-12</td>\n      <td>13</td>\n      <td>16428</td>\n    </tr>\n    <tr>\n      <th>8</th>\n      <td>51</td>\n      <td>2015-11</td>\n      <td>69</td>\n      <td>306</td>\n    </tr>\n    <tr>\n      <th>9</th>\n      <td>55</td>\n      <td>2015-11</td>\n      <td>7</td>\n      <td>120943</td>\n    </tr>\n  </tbody>\n</table>\n</div>"
     },
     "execution_count": 29,
     "metadata": {},
     "output_type": "execute_result"
    }
   ],
   "source": [
    "occurrences = df.groupby(['id', 'week_year', 'source_id']).size().reset_index(name='occurrences')\n",
    "df = df.merge(occurrences, on=['source_id', 'week_year', 'id'], how='left')\n",
    "df.head(10)"
   ],
   "metadata": {
    "collapsed": false,
    "pycharm": {
     "name": "#%%\n"
    }
   }
  },
  {
   "cell_type": "markdown",
   "source": [
    "Calcul du nombre total d'apparition de chaque source_id"
   ],
   "metadata": {
    "collapsed": false,
    "pycharm": {
     "name": "#%% md\n"
    }
   }
  },
  {
   "cell_type": "code",
   "execution_count": 30,
   "outputs": [
    {
     "data": {
      "text/plain": "   id week_year  source_id  occurrences  total_count\n0  66   2015-11         77        14045        57287\n1  24   2015-19         72        23175       977898\n2  29   2015-12         42        38209       817150\n3  87   2015-15          6       128122       854757\n4  67   2015-17         26         4430       195313\n5  89   2015-09          9        23974       267784\n6  42   2015-17         87        40290       404851\n7  32   2015-12         13        16428       408071\n8  51   2015-11         69          306      1138162\n9  55   2015-11          7       120943       580731",
      "text/html": "<div>\n<style scoped>\n    .dataframe tbody tr th:only-of-type {\n        vertical-align: middle;\n    }\n\n    .dataframe tbody tr th {\n        vertical-align: top;\n    }\n\n    .dataframe thead th {\n        text-align: right;\n    }\n</style>\n<table border=\"1\" class=\"dataframe\">\n  <thead>\n    <tr style=\"text-align: right;\">\n      <th></th>\n      <th>id</th>\n      <th>week_year</th>\n      <th>source_id</th>\n      <th>occurrences</th>\n      <th>total_count</th>\n    </tr>\n  </thead>\n  <tbody>\n    <tr>\n      <th>0</th>\n      <td>66</td>\n      <td>2015-11</td>\n      <td>77</td>\n      <td>14045</td>\n      <td>57287</td>\n    </tr>\n    <tr>\n      <th>1</th>\n      <td>24</td>\n      <td>2015-19</td>\n      <td>72</td>\n      <td>23175</td>\n      <td>977898</td>\n    </tr>\n    <tr>\n      <th>2</th>\n      <td>29</td>\n      <td>2015-12</td>\n      <td>42</td>\n      <td>38209</td>\n      <td>817150</td>\n    </tr>\n    <tr>\n      <th>3</th>\n      <td>87</td>\n      <td>2015-15</td>\n      <td>6</td>\n      <td>128122</td>\n      <td>854757</td>\n    </tr>\n    <tr>\n      <th>4</th>\n      <td>67</td>\n      <td>2015-17</td>\n      <td>26</td>\n      <td>4430</td>\n      <td>195313</td>\n    </tr>\n    <tr>\n      <th>5</th>\n      <td>89</td>\n      <td>2015-09</td>\n      <td>9</td>\n      <td>23974</td>\n      <td>267784</td>\n    </tr>\n    <tr>\n      <th>6</th>\n      <td>42</td>\n      <td>2015-17</td>\n      <td>87</td>\n      <td>40290</td>\n      <td>404851</td>\n    </tr>\n    <tr>\n      <th>7</th>\n      <td>32</td>\n      <td>2015-12</td>\n      <td>13</td>\n      <td>16428</td>\n      <td>408071</td>\n    </tr>\n    <tr>\n      <th>8</th>\n      <td>51</td>\n      <td>2015-11</td>\n      <td>69</td>\n      <td>306</td>\n      <td>1138162</td>\n    </tr>\n    <tr>\n      <th>9</th>\n      <td>55</td>\n      <td>2015-11</td>\n      <td>7</td>\n      <td>120943</td>\n      <td>580731</td>\n    </tr>\n  </tbody>\n</table>\n</div>"
     },
     "execution_count": 30,
     "metadata": {},
     "output_type": "execute_result"
    }
   ],
   "source": [
    "total_count = df.groupby('source_id').size().reset_index(name='total_count')\n",
    "df = df.merge(total_count, on='source_id', how='left')\n",
    "df.head(10)"
   ],
   "metadata": {
    "collapsed": false,
    "pycharm": {
     "name": "#%%\n"
    }
   }
  },
  {
   "cell_type": "markdown",
   "source": [
    "Calcul du pourcentage d'apparition d'un id source pour chaque semaine"
   ],
   "metadata": {
    "collapsed": false,
    "pycharm": {
     "name": "#%% md\n"
    }
   }
  },
  {
   "cell_type": "code",
   "execution_count": 31,
   "outputs": [
    {
     "data": {
      "text/plain": "   id week_year  source_id  percentage\n0  66   2015-11         77    0.245169\n1  24   2015-19         72    0.023699\n2  29   2015-12         42    0.046759\n3  87   2015-15          6    0.149893\n4  67   2015-17         26    0.022682\n5  89   2015-09          9    0.089527\n6  42   2015-17         87    0.099518\n7  32   2015-12         13    0.040258\n8  51   2015-11         69    0.000269\n9  55   2015-11          7    0.208260",
      "text/html": "<div>\n<style scoped>\n    .dataframe tbody tr th:only-of-type {\n        vertical-align: middle;\n    }\n\n    .dataframe tbody tr th {\n        vertical-align: top;\n    }\n\n    .dataframe thead th {\n        text-align: right;\n    }\n</style>\n<table border=\"1\" class=\"dataframe\">\n  <thead>\n    <tr style=\"text-align: right;\">\n      <th></th>\n      <th>id</th>\n      <th>week_year</th>\n      <th>source_id</th>\n      <th>percentage</th>\n    </tr>\n  </thead>\n  <tbody>\n    <tr>\n      <th>0</th>\n      <td>66</td>\n      <td>2015-11</td>\n      <td>77</td>\n      <td>0.245169</td>\n    </tr>\n    <tr>\n      <th>1</th>\n      <td>24</td>\n      <td>2015-19</td>\n      <td>72</td>\n      <td>0.023699</td>\n    </tr>\n    <tr>\n      <th>2</th>\n      <td>29</td>\n      <td>2015-12</td>\n      <td>42</td>\n      <td>0.046759</td>\n    </tr>\n    <tr>\n      <th>3</th>\n      <td>87</td>\n      <td>2015-15</td>\n      <td>6</td>\n      <td>0.149893</td>\n    </tr>\n    <tr>\n      <th>4</th>\n      <td>67</td>\n      <td>2015-17</td>\n      <td>26</td>\n      <td>0.022682</td>\n    </tr>\n    <tr>\n      <th>5</th>\n      <td>89</td>\n      <td>2015-09</td>\n      <td>9</td>\n      <td>0.089527</td>\n    </tr>\n    <tr>\n      <th>6</th>\n      <td>42</td>\n      <td>2015-17</td>\n      <td>87</td>\n      <td>0.099518</td>\n    </tr>\n    <tr>\n      <th>7</th>\n      <td>32</td>\n      <td>2015-12</td>\n      <td>13</td>\n      <td>0.040258</td>\n    </tr>\n    <tr>\n      <th>8</th>\n      <td>51</td>\n      <td>2015-11</td>\n      <td>69</td>\n      <td>0.000269</td>\n    </tr>\n    <tr>\n      <th>9</th>\n      <td>55</td>\n      <td>2015-11</td>\n      <td>7</td>\n      <td>0.208260</td>\n    </tr>\n  </tbody>\n</table>\n</div>"
     },
     "execution_count": 31,
     "metadata": {},
     "output_type": "execute_result"
    }
   ],
   "source": [
    "df[\"percentage\"] = df[\"occurrences\"] / df[\"total_count\"]\n",
    "df = df.drop(['occurrences', 'total_count'], axis=1)\n",
    "df.head(10)"
   ],
   "metadata": {
    "collapsed": false,
    "pycharm": {
     "name": "#%%\n"
    }
   }
  },
  {
   "cell_type": "markdown",
   "source": [
    "Suppression des duplicatas"
   ],
   "metadata": {
    "collapsed": false,
    "pycharm": {
     "name": "#%% md\n"
    }
   }
  },
  {
   "cell_type": "code",
   "execution_count": 32,
   "outputs": [
    {
     "data": {
      "text/plain": "   id week_year  source_id  percentage\n0  66   2015-11         77    0.245169\n1  24   2015-19         72    0.023699\n2  29   2015-12         42    0.046759\n3  87   2015-15          6    0.149893\n4  67   2015-17         26    0.022682\n5  89   2015-09          9    0.089527\n6  42   2015-17         87    0.099518\n7  32   2015-12         13    0.040258\n8  51   2015-11         69    0.000269\n9  55   2015-11          7    0.208260",
      "text/html": "<div>\n<style scoped>\n    .dataframe tbody tr th:only-of-type {\n        vertical-align: middle;\n    }\n\n    .dataframe tbody tr th {\n        vertical-align: top;\n    }\n\n    .dataframe thead th {\n        text-align: right;\n    }\n</style>\n<table border=\"1\" class=\"dataframe\">\n  <thead>\n    <tr style=\"text-align: right;\">\n      <th></th>\n      <th>id</th>\n      <th>week_year</th>\n      <th>source_id</th>\n      <th>percentage</th>\n    </tr>\n  </thead>\n  <tbody>\n    <tr>\n      <th>0</th>\n      <td>66</td>\n      <td>2015-11</td>\n      <td>77</td>\n      <td>0.245169</td>\n    </tr>\n    <tr>\n      <th>1</th>\n      <td>24</td>\n      <td>2015-19</td>\n      <td>72</td>\n      <td>0.023699</td>\n    </tr>\n    <tr>\n      <th>2</th>\n      <td>29</td>\n      <td>2015-12</td>\n      <td>42</td>\n      <td>0.046759</td>\n    </tr>\n    <tr>\n      <th>3</th>\n      <td>87</td>\n      <td>2015-15</td>\n      <td>6</td>\n      <td>0.149893</td>\n    </tr>\n    <tr>\n      <th>4</th>\n      <td>67</td>\n      <td>2015-17</td>\n      <td>26</td>\n      <td>0.022682</td>\n    </tr>\n    <tr>\n      <th>5</th>\n      <td>89</td>\n      <td>2015-09</td>\n      <td>9</td>\n      <td>0.089527</td>\n    </tr>\n    <tr>\n      <th>6</th>\n      <td>42</td>\n      <td>2015-17</td>\n      <td>87</td>\n      <td>0.099518</td>\n    </tr>\n    <tr>\n      <th>7</th>\n      <td>32</td>\n      <td>2015-12</td>\n      <td>13</td>\n      <td>0.040258</td>\n    </tr>\n    <tr>\n      <th>8</th>\n      <td>51</td>\n      <td>2015-11</td>\n      <td>69</td>\n      <td>0.000269</td>\n    </tr>\n    <tr>\n      <th>9</th>\n      <td>55</td>\n      <td>2015-11</td>\n      <td>7</td>\n      <td>0.208260</td>\n    </tr>\n  </tbody>\n</table>\n</div>"
     },
     "execution_count": 32,
     "metadata": {},
     "output_type": "execute_result"
    }
   ],
   "source": [
    "df = df.drop_duplicates()\n",
    "df.head(10)"
   ],
   "metadata": {
    "collapsed": false,
    "pycharm": {
     "name": "#%%\n"
    }
   }
  },
  {
   "cell_type": "markdown",
   "source": [
    "Supression des lignes où le tuple (id, week_year) est le moins présent"
   ],
   "metadata": {
    "collapsed": false,
    "pycharm": {
     "name": "#%% md\n"
    }
   }
  },
  {
   "cell_type": "code",
   "execution_count": 33,
   "outputs": [
    {
     "data": {
      "text/plain": "        id week_year  source_id  percentage\n411      1   2015-09         89    0.112566\n105      1   2015-10         11    0.300762\n297      1   2015-11         69    0.034841\n147      1   2015-12         43    0.052431\n473      1   2015-13          8    0.126757\n286      1   2015-14         68    0.065265\n413      1   2015-15         27    0.090753\n6236     1   2015-16         17    0.071305\n250260   1   2015-17         75    0.000089\n10096    1   2015-18         30    0.023922",
      "text/html": "<div>\n<style scoped>\n    .dataframe tbody tr th:only-of-type {\n        vertical-align: middle;\n    }\n\n    .dataframe tbody tr th {\n        vertical-align: top;\n    }\n\n    .dataframe thead th {\n        text-align: right;\n    }\n</style>\n<table border=\"1\" class=\"dataframe\">\n  <thead>\n    <tr style=\"text-align: right;\">\n      <th></th>\n      <th>id</th>\n      <th>week_year</th>\n      <th>source_id</th>\n      <th>percentage</th>\n    </tr>\n  </thead>\n  <tbody>\n    <tr>\n      <th>411</th>\n      <td>1</td>\n      <td>2015-09</td>\n      <td>89</td>\n      <td>0.112566</td>\n    </tr>\n    <tr>\n      <th>105</th>\n      <td>1</td>\n      <td>2015-10</td>\n      <td>11</td>\n      <td>0.300762</td>\n    </tr>\n    <tr>\n      <th>297</th>\n      <td>1</td>\n      <td>2015-11</td>\n      <td>69</td>\n      <td>0.034841</td>\n    </tr>\n    <tr>\n      <th>147</th>\n      <td>1</td>\n      <td>2015-12</td>\n      <td>43</td>\n      <td>0.052431</td>\n    </tr>\n    <tr>\n      <th>473</th>\n      <td>1</td>\n      <td>2015-13</td>\n      <td>8</td>\n      <td>0.126757</td>\n    </tr>\n    <tr>\n      <th>286</th>\n      <td>1</td>\n      <td>2015-14</td>\n      <td>68</td>\n      <td>0.065265</td>\n    </tr>\n    <tr>\n      <th>413</th>\n      <td>1</td>\n      <td>2015-15</td>\n      <td>27</td>\n      <td>0.090753</td>\n    </tr>\n    <tr>\n      <th>6236</th>\n      <td>1</td>\n      <td>2015-16</td>\n      <td>17</td>\n      <td>0.071305</td>\n    </tr>\n    <tr>\n      <th>250260</th>\n      <td>1</td>\n      <td>2015-17</td>\n      <td>75</td>\n      <td>0.000089</td>\n    </tr>\n    <tr>\n      <th>10096</th>\n      <td>1</td>\n      <td>2015-18</td>\n      <td>30</td>\n      <td>0.023922</td>\n    </tr>\n  </tbody>\n</table>\n</div>"
     },
     "execution_count": 33,
     "metadata": {},
     "output_type": "execute_result"
    }
   ],
   "source": [
    "max_indices = df.groupby(['id', 'week_year'])['percentage'].idxmax()\n",
    "result_df = df.loc[max_indices]\n",
    "result_df.head(10)"
   ],
   "metadata": {
    "collapsed": false,
    "pycharm": {
     "name": "#%%\n"
    }
   }
  },
  {
   "cell_type": "markdown",
   "source": [
    "Supression des lignes où le tuple (source_id, week_year) est le moins présent"
   ],
   "metadata": {
    "collapsed": false,
    "pycharm": {
     "name": "#%% md\n"
    }
   }
  },
  {
   "cell_type": "code",
   "execution_count": 34,
   "outputs": [
    {
     "data": {
      "text/plain": "      id week_year  source_id  percentage\n41    41   2015-09          1    0.023373\n140   16   2015-11          1    0.030667\n161   68   2015-12          1    0.048047\n326   28   2015-13          1    0.046427\n110    2   2015-14          1    0.150469\n40     9   2015-15          1    0.130931\n249   59   2015-16          1    0.059095\n176   18   2015-17          1    0.087363\n1150  75   2015-18          1    0.051043\n1459  51   2015-19          1    0.019341",
      "text/html": "<div>\n<style scoped>\n    .dataframe tbody tr th:only-of-type {\n        vertical-align: middle;\n    }\n\n    .dataframe tbody tr th {\n        vertical-align: top;\n    }\n\n    .dataframe thead th {\n        text-align: right;\n    }\n</style>\n<table border=\"1\" class=\"dataframe\">\n  <thead>\n    <tr style=\"text-align: right;\">\n      <th></th>\n      <th>id</th>\n      <th>week_year</th>\n      <th>source_id</th>\n      <th>percentage</th>\n    </tr>\n  </thead>\n  <tbody>\n    <tr>\n      <th>41</th>\n      <td>41</td>\n      <td>2015-09</td>\n      <td>1</td>\n      <td>0.023373</td>\n    </tr>\n    <tr>\n      <th>140</th>\n      <td>16</td>\n      <td>2015-11</td>\n      <td>1</td>\n      <td>0.030667</td>\n    </tr>\n    <tr>\n      <th>161</th>\n      <td>68</td>\n      <td>2015-12</td>\n      <td>1</td>\n      <td>0.048047</td>\n    </tr>\n    <tr>\n      <th>326</th>\n      <td>28</td>\n      <td>2015-13</td>\n      <td>1</td>\n      <td>0.046427</td>\n    </tr>\n    <tr>\n      <th>110</th>\n      <td>2</td>\n      <td>2015-14</td>\n      <td>1</td>\n      <td>0.150469</td>\n    </tr>\n    <tr>\n      <th>40</th>\n      <td>9</td>\n      <td>2015-15</td>\n      <td>1</td>\n      <td>0.130931</td>\n    </tr>\n    <tr>\n      <th>249</th>\n      <td>59</td>\n      <td>2015-16</td>\n      <td>1</td>\n      <td>0.059095</td>\n    </tr>\n    <tr>\n      <th>176</th>\n      <td>18</td>\n      <td>2015-17</td>\n      <td>1</td>\n      <td>0.087363</td>\n    </tr>\n    <tr>\n      <th>1150</th>\n      <td>75</td>\n      <td>2015-18</td>\n      <td>1</td>\n      <td>0.051043</td>\n    </tr>\n    <tr>\n      <th>1459</th>\n      <td>51</td>\n      <td>2015-19</td>\n      <td>1</td>\n      <td>0.019341</td>\n    </tr>\n  </tbody>\n</table>\n</div>"
     },
     "execution_count": 34,
     "metadata": {},
     "output_type": "execute_result"
    }
   ],
   "source": [
    "max_indices = result_df.groupby(['source_id', 'week_year'])['percentage'].idxmax()\n",
    "result_df = result_df.loc[max_indices]\n",
    "result_df.head(10)"
   ],
   "metadata": {
    "collapsed": false,
    "pycharm": {
     "name": "#%%\n"
    }
   }
  },
  {
   "cell_type": "markdown",
   "source": [
    "<h1>Partie 5: Transformation du dataset sous forme de json<h1>"
   ],
   "metadata": {
    "collapsed": false,
    "pycharm": {
     "name": "#%% md\n"
    }
   }
  },
  {
   "cell_type": "code",
   "execution_count": 36,
   "outputs": [],
   "source": [
    "import json\n",
    "\n",
    "transformed_data = {}\n",
    "\n",
    "for index, row in result_df.iterrows():\n",
    "    id_ = str(row['id'])\n",
    "    week = row['week_year']\n",
    "    source_id = row['source_id']\n",
    "\n",
    "    if source_id not in transformed_data:\n",
    "        transformed_data[source_id] = {}\n",
    "    if week not in transformed_data[source_id]:\n",
    "        transformed_data[source_id][week] = []\n",
    "\n",
    "    transformed_data[source_id][week].append(id_)\n",
    "\n",
    "result_json = json.dumps(transformed_data, indent=2)"
   ],
   "metadata": {
    "collapsed": false,
    "pycharm": {
     "name": "#%%\n"
    }
   }
  },
  {
   "cell_type": "code",
   "execution_count": 37,
   "outputs": [],
   "source": [
    "with open(attack_file, 'w') as file:\n",
    "    file.write(result_json)"
   ],
   "metadata": {
    "collapsed": false,
    "pycharm": {
     "name": "#%%\n"
    }
   }
  }
 ],
 "metadata": {
  "kernelspec": {
   "display_name": "Python 3",
   "language": "python",
   "name": "python3"
  },
  "language_info": {
   "codemirror_mode": {
    "name": "ipython",
    "version": 2
   },
   "file_extension": ".py",
   "mimetype": "text/x-python",
   "name": "python",
   "nbconvert_exporter": "python",
   "pygments_lexer": "ipython2",
   "version": "2.7.6"
  }
 },
 "nbformat": 4,
 "nbformat_minor": 0
}