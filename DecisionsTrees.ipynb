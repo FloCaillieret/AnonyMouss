{
 "cells": [
  {
   "cell_type": "code",
   "execution_count": 1,
   "outputs": [],
   "source": [
    "import pandas as pd\n",
    "\n",
    "N = 100_000_000\n",
    "separator = '\\t'\n",
    "base_folder = 'data/'\n",
    "group_folder = 'MichelLardon/'\n",
    "file = \"2\"\n",
    "\n",
    "dsource_file = base_folder + 'donnees_sources'\n",
    "dtarget_file = base_folder + group_folder + 'donnees_anonymes' + file\n",
    "\n",
    "attack_file = base_folder + group_folder + 'fichier_attaque' + file + '.json'"
   ],
   "metadata": {
    "collapsed": false,
    "pycharm": {
     "name": "#%%\n"
    }
   }
  },
  {
   "cell_type": "code",
   "execution_count": 2,
   "outputs": [],
   "source": [
    "dsource = pd.read_pickle(dsource_file + '.pkl')"
   ],
   "metadata": {
    "collapsed": false,
    "pycharm": {
     "name": "#%%\n"
    }
   }
  },
  {
   "cell_type": "code",
   "execution_count": 3,
   "outputs": [],
   "source": [
    "dtarget = pd.read_pickle(dtarget_file + '.pkl')"
   ],
   "metadata": {
    "collapsed": false,
    "pycharm": {
     "name": "#%%\n"
    }
   }
  },
  {
   "cell_type": "code",
   "execution_count": null,
   "outputs": [],
   "source": [
    "\n",
    "from sklearn.ensemble import RandomForestClassifier\n",
    "\n",
    "df = pd.DataFrame(columns=['source_id', 'week_year', 'target_id'])\n",
    "\n",
    "# Iterate over unique week_year values\n",
    "for index, week_year in enumerate(dsource['week_year'].unique()):\n",
    "    print(index, ':', week_year)\n",
    "\n",
    "    X = ['timestamp', 'distance']\n",
    "    # X = ['timestamp', 'lat', 'long']\n",
    "    y = ['id']\n",
    "\n",
    "    # Filter data for the current week_year\n",
    "    src = dsource[dsource['week_year'] == week_year]\n",
    "    tgt = dtarget[dtarget['week_year'] == week_year]\n",
    "\n",
    "    clf = RandomForestClassifier(n_estimators=10, random_state=42, n_jobs=6)\n",
    "\n",
    "    # Fit the model using partial_fit\n",
    "    print('Fitting...')\n",
    "    clf.fit(tgt[X], tgt[y])\n",
    "\n",
    "    print('Predicting...')\n",
    "    index_list = clf.predict(src[X])\n",
    "\n",
    "    source_ids = src[y].squeeze().reset_index(drop=True)\n",
    "    target_ids = index_list.squeeze()\n",
    "\n",
    "    # dfi = pd.DataFrame({'source_id': source_ids.tolist(), 'week_year': week_year, 'target_id': tgt[y].squeeze()})\n",
    "    print('Creating DataFrame...')\n",
    "    dfi = pd.DataFrame({'source_id': source_ids, 'week_year': week_year, 'target_id': target_ids})\n",
    "\n",
    "    # Append the current week's DataFrame to the main DataFrame\n",
    "    df = pd.concat([df, dfi], ignore_index=True)"
   ],
   "metadata": {
    "collapsed": false,
    "pycharm": {
     "name": "#%%\n",
     "is_executing": true
    }
   }
  },
  {
   "cell_type": "code",
   "execution_count": 22,
   "outputs": [
    {
     "data": {
      "text/plain": "        source_id week_year target_id\n0               1   2015-09   1494857\n1               1   2015-09   1494857\n2               1   2015-09   1494857\n3               1   2015-09   1494857\n4               1   2015-09   1494857\n...           ...       ...       ...\n3430294       110   2015-09   4573307\n3430295       110   2015-09   4573307\n3430296       110   2015-09   4573307\n3430297       110   2015-09   4573307\n3430298       110   2015-09   4573307\n\n[3430299 rows x 3 columns]",
      "text/html": "<div>\n<style scoped>\n    .dataframe tbody tr th:only-of-type {\n        vertical-align: middle;\n    }\n\n    .dataframe tbody tr th {\n        vertical-align: top;\n    }\n\n    .dataframe thead th {\n        text-align: right;\n    }\n</style>\n<table border=\"1\" class=\"dataframe\">\n  <thead>\n    <tr style=\"text-align: right;\">\n      <th></th>\n      <th>source_id</th>\n      <th>week_year</th>\n      <th>target_id</th>\n    </tr>\n  </thead>\n  <tbody>\n    <tr>\n      <th>0</th>\n      <td>1</td>\n      <td>2015-09</td>\n      <td>1494857</td>\n    </tr>\n    <tr>\n      <th>1</th>\n      <td>1</td>\n      <td>2015-09</td>\n      <td>1494857</td>\n    </tr>\n    <tr>\n      <th>2</th>\n      <td>1</td>\n      <td>2015-09</td>\n      <td>1494857</td>\n    </tr>\n    <tr>\n      <th>3</th>\n      <td>1</td>\n      <td>2015-09</td>\n      <td>1494857</td>\n    </tr>\n    <tr>\n      <th>4</th>\n      <td>1</td>\n      <td>2015-09</td>\n      <td>1494857</td>\n    </tr>\n    <tr>\n      <th>...</th>\n      <td>...</td>\n      <td>...</td>\n      <td>...</td>\n    </tr>\n    <tr>\n      <th>3430294</th>\n      <td>110</td>\n      <td>2015-09</td>\n      <td>4573307</td>\n    </tr>\n    <tr>\n      <th>3430295</th>\n      <td>110</td>\n      <td>2015-09</td>\n      <td>4573307</td>\n    </tr>\n    <tr>\n      <th>3430296</th>\n      <td>110</td>\n      <td>2015-09</td>\n      <td>4573307</td>\n    </tr>\n    <tr>\n      <th>3430297</th>\n      <td>110</td>\n      <td>2015-09</td>\n      <td>4573307</td>\n    </tr>\n    <tr>\n      <th>3430298</th>\n      <td>110</td>\n      <td>2015-09</td>\n      <td>4573307</td>\n    </tr>\n  </tbody>\n</table>\n<p>3430299 rows × 3 columns</p>\n</div>"
     },
     "execution_count": 22,
     "metadata": {},
     "output_type": "execute_result"
    }
   ],
   "source": [
    "df"
   ],
   "metadata": {
    "collapsed": false,
    "pycharm": {
     "name": "#%%\n"
    }
   }
  },
  {
   "cell_type": "code",
   "execution_count": 44,
   "outputs": [
    {
     "data": {
      "text/plain": "  source_id week_year target_id  occurrences\n0         1   2015-09   1494857         1968\n1         1   2015-09   1494857         1968\n2         1   2015-09   1494857         1968\n3         1   2015-09   1494857         1968\n4         1   2015-09   1494857         1968\n5         1   2015-09   1494857         1968\n6         1   2015-09   1494857         1968\n7         1   2015-09   1494857         1968\n8         1   2015-09   1494857         1968\n9         1   2015-09   1494857         1968",
      "text/html": "<div>\n<style scoped>\n    .dataframe tbody tr th:only-of-type {\n        vertical-align: middle;\n    }\n\n    .dataframe tbody tr th {\n        vertical-align: top;\n    }\n\n    .dataframe thead th {\n        text-align: right;\n    }\n</style>\n<table border=\"1\" class=\"dataframe\">\n  <thead>\n    <tr style=\"text-align: right;\">\n      <th></th>\n      <th>source_id</th>\n      <th>week_year</th>\n      <th>target_id</th>\n      <th>occurrences</th>\n    </tr>\n  </thead>\n  <tbody>\n    <tr>\n      <th>0</th>\n      <td>1</td>\n      <td>2015-09</td>\n      <td>1494857</td>\n      <td>1968</td>\n    </tr>\n    <tr>\n      <th>1</th>\n      <td>1</td>\n      <td>2015-09</td>\n      <td>1494857</td>\n      <td>1968</td>\n    </tr>\n    <tr>\n      <th>2</th>\n      <td>1</td>\n      <td>2015-09</td>\n      <td>1494857</td>\n      <td>1968</td>\n    </tr>\n    <tr>\n      <th>3</th>\n      <td>1</td>\n      <td>2015-09</td>\n      <td>1494857</td>\n      <td>1968</td>\n    </tr>\n    <tr>\n      <th>4</th>\n      <td>1</td>\n      <td>2015-09</td>\n      <td>1494857</td>\n      <td>1968</td>\n    </tr>\n    <tr>\n      <th>5</th>\n      <td>1</td>\n      <td>2015-09</td>\n      <td>1494857</td>\n      <td>1968</td>\n    </tr>\n    <tr>\n      <th>6</th>\n      <td>1</td>\n      <td>2015-09</td>\n      <td>1494857</td>\n      <td>1968</td>\n    </tr>\n    <tr>\n      <th>7</th>\n      <td>1</td>\n      <td>2015-09</td>\n      <td>1494857</td>\n      <td>1968</td>\n    </tr>\n    <tr>\n      <th>8</th>\n      <td>1</td>\n      <td>2015-09</td>\n      <td>1494857</td>\n      <td>1968</td>\n    </tr>\n    <tr>\n      <th>9</th>\n      <td>1</td>\n      <td>2015-09</td>\n      <td>1494857</td>\n      <td>1968</td>\n    </tr>\n  </tbody>\n</table>\n</div>"
     },
     "execution_count": 44,
     "metadata": {},
     "output_type": "execute_result"
    }
   ],
   "source": [
    "occurrences = df.groupby(['target_id', 'week_year', 'source_id']).size().reset_index(name='occurrences')\n",
    "df = df.merge(occurrences, on=['source_id', 'week_year', 'target_id'], how='left')\n",
    "df.head(10)"
   ],
   "metadata": {
    "collapsed": false,
    "pycharm": {
     "name": "#%%\n"
    }
   }
  },
  {
   "cell_type": "markdown",
   "source": [
    "Calcul du nombre total d'apparition de chaque source_id"
   ],
   "metadata": {
    "collapsed": false,
    "pycharm": {
     "name": "#%% md\n"
    }
   }
  },
  {
   "cell_type": "code",
   "execution_count": 45,
   "outputs": [
    {
     "data": {
      "text/plain": "  source_id week_year target_id  occurrences  total_count\n0         1   2015-09   1494857         1968       863885\n1         1   2015-09   1494857         1968       863885\n2         1   2015-09   1494857         1968       863885\n3         1   2015-09   1494857         1968       863885\n4         1   2015-09   1494857         1968       863885\n5         1   2015-09   1494857         1968       863885\n6         1   2015-09   1494857         1968       863885\n7         1   2015-09   1494857         1968       863885\n8         1   2015-09   1494857         1968       863885\n9         1   2015-09   1494857         1968       863885",
      "text/html": "<div>\n<style scoped>\n    .dataframe tbody tr th:only-of-type {\n        vertical-align: middle;\n    }\n\n    .dataframe tbody tr th {\n        vertical-align: top;\n    }\n\n    .dataframe thead th {\n        text-align: right;\n    }\n</style>\n<table border=\"1\" class=\"dataframe\">\n  <thead>\n    <tr style=\"text-align: right;\">\n      <th></th>\n      <th>source_id</th>\n      <th>week_year</th>\n      <th>target_id</th>\n      <th>occurrences</th>\n      <th>total_count</th>\n    </tr>\n  </thead>\n  <tbody>\n    <tr>\n      <th>0</th>\n      <td>1</td>\n      <td>2015-09</td>\n      <td>1494857</td>\n      <td>1968</td>\n      <td>863885</td>\n    </tr>\n    <tr>\n      <th>1</th>\n      <td>1</td>\n      <td>2015-09</td>\n      <td>1494857</td>\n      <td>1968</td>\n      <td>863885</td>\n    </tr>\n    <tr>\n      <th>2</th>\n      <td>1</td>\n      <td>2015-09</td>\n      <td>1494857</td>\n      <td>1968</td>\n      <td>863885</td>\n    </tr>\n    <tr>\n      <th>3</th>\n      <td>1</td>\n      <td>2015-09</td>\n      <td>1494857</td>\n      <td>1968</td>\n      <td>863885</td>\n    </tr>\n    <tr>\n      <th>4</th>\n      <td>1</td>\n      <td>2015-09</td>\n      <td>1494857</td>\n      <td>1968</td>\n      <td>863885</td>\n    </tr>\n    <tr>\n      <th>5</th>\n      <td>1</td>\n      <td>2015-09</td>\n      <td>1494857</td>\n      <td>1968</td>\n      <td>863885</td>\n    </tr>\n    <tr>\n      <th>6</th>\n      <td>1</td>\n      <td>2015-09</td>\n      <td>1494857</td>\n      <td>1968</td>\n      <td>863885</td>\n    </tr>\n    <tr>\n      <th>7</th>\n      <td>1</td>\n      <td>2015-09</td>\n      <td>1494857</td>\n      <td>1968</td>\n      <td>863885</td>\n    </tr>\n    <tr>\n      <th>8</th>\n      <td>1</td>\n      <td>2015-09</td>\n      <td>1494857</td>\n      <td>1968</td>\n      <td>863885</td>\n    </tr>\n    <tr>\n      <th>9</th>\n      <td>1</td>\n      <td>2015-09</td>\n      <td>1494857</td>\n      <td>1968</td>\n      <td>863885</td>\n    </tr>\n  </tbody>\n</table>\n</div>"
     },
     "execution_count": 45,
     "metadata": {},
     "output_type": "execute_result"
    }
   ],
   "source": [
    "total_count = df.groupby('source_id').size().reset_index(name='total_count')\n",
    "df = df.merge(total_count, on='source_id', how='left')\n",
    "df.head(10)"
   ],
   "metadata": {
    "collapsed": false,
    "pycharm": {
     "name": "#%%\n"
    }
   }
  },
  {
   "cell_type": "markdown",
   "source": [
    "Calcul du pourcentage d'apparition d'un id source pour chaque semaine"
   ],
   "metadata": {
    "collapsed": false,
    "pycharm": {
     "name": "#%% md\n"
    }
   }
  },
  {
   "cell_type": "code",
   "execution_count": 46,
   "outputs": [
    {
     "data": {
      "text/plain": "  source_id week_year target_id  percentage\n0         1   2015-09   1494857    0.002278\n1         1   2015-09   1494857    0.002278\n2         1   2015-09   1494857    0.002278\n3         1   2015-09   1494857    0.002278\n4         1   2015-09   1494857    0.002278\n5         1   2015-09   1494857    0.002278\n6         1   2015-09   1494857    0.002278\n7         1   2015-09   1494857    0.002278\n8         1   2015-09   1494857    0.002278\n9         1   2015-09   1494857    0.002278",
      "text/html": "<div>\n<style scoped>\n    .dataframe tbody tr th:only-of-type {\n        vertical-align: middle;\n    }\n\n    .dataframe tbody tr th {\n        vertical-align: top;\n    }\n\n    .dataframe thead th {\n        text-align: right;\n    }\n</style>\n<table border=\"1\" class=\"dataframe\">\n  <thead>\n    <tr style=\"text-align: right;\">\n      <th></th>\n      <th>source_id</th>\n      <th>week_year</th>\n      <th>target_id</th>\n      <th>percentage</th>\n    </tr>\n  </thead>\n  <tbody>\n    <tr>\n      <th>0</th>\n      <td>1</td>\n      <td>2015-09</td>\n      <td>1494857</td>\n      <td>0.002278</td>\n    </tr>\n    <tr>\n      <th>1</th>\n      <td>1</td>\n      <td>2015-09</td>\n      <td>1494857</td>\n      <td>0.002278</td>\n    </tr>\n    <tr>\n      <th>2</th>\n      <td>1</td>\n      <td>2015-09</td>\n      <td>1494857</td>\n      <td>0.002278</td>\n    </tr>\n    <tr>\n      <th>3</th>\n      <td>1</td>\n      <td>2015-09</td>\n      <td>1494857</td>\n      <td>0.002278</td>\n    </tr>\n    <tr>\n      <th>4</th>\n      <td>1</td>\n      <td>2015-09</td>\n      <td>1494857</td>\n      <td>0.002278</td>\n    </tr>\n    <tr>\n      <th>5</th>\n      <td>1</td>\n      <td>2015-09</td>\n      <td>1494857</td>\n      <td>0.002278</td>\n    </tr>\n    <tr>\n      <th>6</th>\n      <td>1</td>\n      <td>2015-09</td>\n      <td>1494857</td>\n      <td>0.002278</td>\n    </tr>\n    <tr>\n      <th>7</th>\n      <td>1</td>\n      <td>2015-09</td>\n      <td>1494857</td>\n      <td>0.002278</td>\n    </tr>\n    <tr>\n      <th>8</th>\n      <td>1</td>\n      <td>2015-09</td>\n      <td>1494857</td>\n      <td>0.002278</td>\n    </tr>\n    <tr>\n      <th>9</th>\n      <td>1</td>\n      <td>2015-09</td>\n      <td>1494857</td>\n      <td>0.002278</td>\n    </tr>\n  </tbody>\n</table>\n</div>"
     },
     "execution_count": 46,
     "metadata": {},
     "output_type": "execute_result"
    }
   ],
   "source": [
    "df[\"percentage\"] = df[\"occurrences\"] / df[\"total_count\"]\n",
    "df = df.drop(['occurrences', 'total_count'], axis=1)\n",
    "df.head(10)"
   ],
   "metadata": {
    "collapsed": false,
    "pycharm": {
     "name": "#%%\n"
    }
   }
  },
  {
   "cell_type": "markdown",
   "source": [
    "Suppression des duplicatas"
   ],
   "metadata": {
    "collapsed": false,
    "pycharm": {
     "name": "#%% md\n"
    }
   }
  },
  {
   "cell_type": "code",
   "execution_count": 47,
   "outputs": [
    {
     "data": {
      "text/plain": "    source_id week_year target_id  percentage\n0           1   2015-09   1494857    0.002278\n53          1   2015-09    225503    0.001770\n76          1   2015-09   1829209    0.006296\n241         1   2015-09   7402473    0.001052\n313         1   2015-09   7319518    0.000164\n328         1   2015-09   1125336    0.000208\n413         1   2015-09   6609548    0.001593\n593         1   2015-09   1461127    0.001072\n613         1   2015-09   4386281    0.003590\n629         1   2015-09   8526733    0.000832",
      "text/html": "<div>\n<style scoped>\n    .dataframe tbody tr th:only-of-type {\n        vertical-align: middle;\n    }\n\n    .dataframe tbody tr th {\n        vertical-align: top;\n    }\n\n    .dataframe thead th {\n        text-align: right;\n    }\n</style>\n<table border=\"1\" class=\"dataframe\">\n  <thead>\n    <tr style=\"text-align: right;\">\n      <th></th>\n      <th>source_id</th>\n      <th>week_year</th>\n      <th>target_id</th>\n      <th>percentage</th>\n    </tr>\n  </thead>\n  <tbody>\n    <tr>\n      <th>0</th>\n      <td>1</td>\n      <td>2015-09</td>\n      <td>1494857</td>\n      <td>0.002278</td>\n    </tr>\n    <tr>\n      <th>53</th>\n      <td>1</td>\n      <td>2015-09</td>\n      <td>225503</td>\n      <td>0.001770</td>\n    </tr>\n    <tr>\n      <th>76</th>\n      <td>1</td>\n      <td>2015-09</td>\n      <td>1829209</td>\n      <td>0.006296</td>\n    </tr>\n    <tr>\n      <th>241</th>\n      <td>1</td>\n      <td>2015-09</td>\n      <td>7402473</td>\n      <td>0.001052</td>\n    </tr>\n    <tr>\n      <th>313</th>\n      <td>1</td>\n      <td>2015-09</td>\n      <td>7319518</td>\n      <td>0.000164</td>\n    </tr>\n    <tr>\n      <th>328</th>\n      <td>1</td>\n      <td>2015-09</td>\n      <td>1125336</td>\n      <td>0.000208</td>\n    </tr>\n    <tr>\n      <th>413</th>\n      <td>1</td>\n      <td>2015-09</td>\n      <td>6609548</td>\n      <td>0.001593</td>\n    </tr>\n    <tr>\n      <th>593</th>\n      <td>1</td>\n      <td>2015-09</td>\n      <td>1461127</td>\n      <td>0.001072</td>\n    </tr>\n    <tr>\n      <th>613</th>\n      <td>1</td>\n      <td>2015-09</td>\n      <td>4386281</td>\n      <td>0.003590</td>\n    </tr>\n    <tr>\n      <th>629</th>\n      <td>1</td>\n      <td>2015-09</td>\n      <td>8526733</td>\n      <td>0.000832</td>\n    </tr>\n  </tbody>\n</table>\n</div>"
     },
     "execution_count": 47,
     "metadata": {},
     "output_type": "execute_result"
    }
   ],
   "source": [
    "df = df.drop_duplicates()\n",
    "df.head(10)"
   ],
   "metadata": {
    "collapsed": false,
    "pycharm": {
     "name": "#%%\n"
    }
   }
  },
  {
   "cell_type": "code",
   "execution_count": 48,
   "outputs": [],
   "source": [
    "import joblib\n",
    "\n",
    "try:\n",
    "    encoder = joblib.load(base_folder + group_folder + 'LabelEncoder' + file + '.joblib')\n",
    "    df['target_id'] = encoder.inverse_transform(df['target_id'].tolist())\n",
    "except:\n",
    "    pass"
   ],
   "metadata": {
    "collapsed": false,
    "pycharm": {
     "name": "#%%\n"
    }
   }
  },
  {
   "cell_type": "code",
   "execution_count": 49,
   "outputs": [
    {
     "data": {
      "text/plain": "{'58': {'2015-09': ['6290814'], '2015-10': ['3437488']},\n '110': {'2015-09': ['2295226'], '2015-10': ['8290989']},\n '71': {'2015-15': ['3347588'],\n  '2015-09': ['1494857'],\n  '2015-17': ['1199841'],\n  '2015-16': ['5305907'],\n  '2015-11': ['5275813'],\n  '2015-13': ['6271743'],\n  '2015-12': ['6344403']},\n '83': {'2015-13': ['8956735'],\n  '2015-10': ['7408315'],\n  '2015-17': ['735602'],\n  '2015-12': ['995718'],\n  '2015-09': ['9607278'],\n  '2015-19': ['5610465'],\n  '2015-18': ['5610465'],\n  '2015-14': ['8956735'],\n  '2015-15': ['2605209']},\n '39': {'2015-15': ['9564600'],\n  '2015-18': ['8165380'],\n  '2015-09': ['8525546'],\n  '2015-14': ['2757835']},\n '87': {'2015-11': ['710077'],\n  '2015-10': ['3519774'],\n  '2015-09': ['5020041'],\n  '2015-17': ['4834555'],\n  '2015-18': ['4834555'],\n  '2015-16': ['2612459']},\n '14': {'2015-09': ['4643626'],\n  '2015-10': ['3378265'],\n  '2015-11': ['3671339']},\n '55': {'2015-09': ['3659973'], '2015-10': ['573306'], '2015-11': ['573306']},\n '23': {'2015-09': ['7319518'], '2015-10': ['1760431']},\n '52': {'2015-09': ['7042592'],\n  '2015-10': ['7042592'],\n  '2015-12': ['9395357'],\n  '2015-11': ['5415731'],\n  '2015-13': ['2044922']},\n '25': {'2015-09': ['6832342'], '2015-10': ['8967468']},\n '31': {'2015-12': ['6017333'],\n  '2015-13': ['4091857'],\n  '2015-10': ['8480521'],\n  '2015-11': ['5192851'],\n  '2015-14': ['1976817'],\n  '2015-09': ['1390007'],\n  '2015-15': ['5038901']},\n '21': {'2015-10': ['4643626'], '2015-09': ['3378265']},\n '6': {'2015-13': ['8776783'],\n  '2015-14': ['3334312'],\n  '2015-09': ['7922839'],\n  '2015-15': ['2064136'],\n  '2015-12': ['1344293'],\n  '2015-11': ['4271962'],\n  '2015-10': ['7922839']},\n '30': {'2015-14': ['4271750'],\n  '2015-13': ['6609643'],\n  '2015-15': ['2199399'],\n  '2015-16': ['2291409'],\n  '2015-12': ['518380'],\n  '2015-18': ['821237'],\n  '2015-10': ['3746612'],\n  '2015-09': ['3746612'],\n  '2015-11': ['1131263'],\n  '2015-17': ['2141148']},\n '36': {'2015-09': ['6019350'],\n  '2015-10': ['6019350'],\n  '2015-11': ['3779906']},\n '28': {'2015-12': ['8964724'],\n  '2015-11': ['6909989'],\n  '2015-09': ['7402473'],\n  '2015-13': ['7301905'],\n  '2015-10': ['7402473']},\n '41': {'2015-11': ['6150005'],\n  '2015-15': ['7385057'],\n  '2015-10': ['4573307'],\n  '2015-16': ['6299861'],\n  '2015-14': ['5258355'],\n  '2015-09': ['4573307'],\n  '2015-13': ['5258355'],\n  '2015-12': ['9800084']},\n '1': {'2015-14': ['9663162'],\n  '2015-17': ['8712454'],\n  '2015-15': ['2842634'],\n  '2015-12': ['5964415'],\n  '2015-18': ['3507733'],\n  '2015-19': ['3507733'],\n  '2015-11': ['9496520'],\n  '2015-16': ['2764995'],\n  '2015-09': ['1829209'],\n  '2015-13': ['5093329'],\n  '2015-10': ['5354687']},\n '107': {'2015-11': ['1833322'], '2015-10': ['7749155']},\n '73': {'2015-12': ['5465624'],\n  '2015-11': ['7603395'],\n  '2015-15': ['3388837'],\n  '2015-10': ['1925347'],\n  '2015-16': ['5704517'],\n  '2015-13': ['5465624'],\n  '2015-14': ['7149743'],\n  '2015-19': ['4329438'],\n  '2015-17': ['9468210'],\n  '2015-09': ['595680'],\n  '2015-18': ['645534']},\n '32': {'2015-12': ['5688529'],\n  '2015-11': ['1803363'],\n  '2015-17': ['1033750'],\n  '2015-16': ['1033750'],\n  '2015-15': ['9687426'],\n  '2015-14': ['7698386'],\n  '2015-13': ['689294'],\n  '2015-19': ['5143599'],\n  '2015-18': ['6501869']},\n '65': {'2015-13': ['7582561'],\n  '2015-12': ['5457722'],\n  '2015-14': ['2643982'],\n  '2015-11': ['9739946']},\n '98': {'2015-10': ['2820494']},\n '75': {'2015-12': ['9335308'],\n  '2015-09': ['703506'],\n  '2015-18': ['2869438'],\n  '2015-16': ['8076933'],\n  '2015-14': ['3120640'],\n  '2015-15': ['6973965'],\n  '2015-10': ['703506'],\n  '2015-19': ['2869438'],\n  '2015-17': ['4708269'],\n  '2015-13': ['9439228'],\n  '2015-11': ['3029264']},\n '49': {'2015-15': ['5526712'],\n  '2015-11': ['4373198'],\n  '2015-12': ['4373198'],\n  '2015-14': ['7474342'],\n  '2015-13': ['3937305'],\n  '2015-09': ['2217353'],\n  '2015-10': ['3216101']},\n '50': {'2015-15': ['8590515'],\n  '2015-12': ['1633569'],\n  '2015-16': ['4968869'],\n  '2015-10': ['3566609'],\n  '2015-14': ['1905419'],\n  '2015-11': ['8962954'],\n  '2015-18': ['7791184'],\n  '2015-13': ['1633569'],\n  '2015-17': ['9942342'],\n  '2015-19': ['7791184']},\n '62': {'2015-18': ['5143599'],\n  '2015-09': ['2847484'],\n  '2015-17': ['3474155'],\n  '2015-15': ['2102039'],\n  '2015-10': ['1369724'],\n  '2015-13': ['7526345'],\n  '2015-12': ['5120159'],\n  '2015-14': ['5320397'],\n  '2015-11': ['5314996'],\n  '2015-19': ['9731975']},\n '18': {'2015-15': ['1698583'],\n  '2015-18': ['4007'],\n  '2015-12': ['6473986'],\n  '2015-11': ['6473986'],\n  '2015-14': ['9018578'],\n  '2015-16': ['6611866'],\n  '2015-17': ['7744298'],\n  '2015-19': ['4007']},\n '48': {'2015-09': ['3669133'],\n  '2015-15': ['3048711'],\n  '2015-10': ['6850886']},\n '8': {'2015-14': ['4064517'],\n  '2015-12': ['5687151'],\n  '2015-10': ['3671339'],\n  '2015-09': ['6608245'],\n  '2015-15': ['6083411'],\n  '2015-16': ['6083411'],\n  '2015-11': ['9047471'],\n  '2015-13': ['7417304']},\n '60': {'2015-18': ['2206298'],\n  '2015-10': ['3468409'],\n  '2015-11': ['8484439'],\n  '2015-12': ['7349431'],\n  '2015-09': ['7261450']},\n '5': {'2015-09': ['4817805'], '2015-10': ['532428']},\n '78': {'2015-12': ['4185570'],\n  '2015-13': ['15123'],\n  '2015-17': ['2486479'],\n  '2015-11': ['8078277'],\n  '2015-15': ['684622'],\n  '2015-10': ['202877'],\n  '2015-09': ['193254'],\n  '2015-16': ['5816067']},\n '29': {'2015-10': ['4182327'],\n  '2015-09': ['4182327'],\n  '2015-13': ['7649717'],\n  '2015-12': ['8124733']},\n '7': {'2015-09': ['6251677'],\n  '2015-10': ['4498498'],\n  '2015-16': ['1223735'],\n  '2015-13': ['8892671'],\n  '2015-11': ['3002496'],\n  '2015-12': ['6884375'],\n  '2015-14': ['7706068'],\n  '2015-15': ['2388378']},\n '77': {'2015-09': ['4386281'],\n  '2015-11': ['6276535'],\n  '2015-17': ['5565762'],\n  '2015-16': ['1001868'],\n  '2015-10': ['3779906'],\n  '2015-19': ['3363147'],\n  '2015-12': ['3862126']},\n '11': {'2015-10': ['1778460'],\n  '2015-09': ['9475148'],\n  '2015-11': ['3618873']},\n '4': {'2015-18': ['8646960'],\n  '2015-16': ['9468210'],\n  '2015-15': ['9441056'],\n  '2015-10': ['1934557'],\n  '2015-13': ['958393'],\n  '2015-19': ['8646960'],\n  '2015-11': ['6067844'],\n  '2015-09': ['8878999'],\n  '2015-14': ['958393'],\n  '2015-12': ['6067844'],\n  '2015-17': ['3494240']},\n '2': {'2015-16': ['2851848'],\n  '2015-17': ['7152328'],\n  '2015-12': ['3931678'],\n  '2015-14': ['3236406'],\n  '2015-18': ['5556368'],\n  '2015-19': ['5556368'],\n  '2015-13': ['2005298'],\n  '2015-10': ['1363666'],\n  '2015-15': ['3236406'],\n  '2015-11': ['532428'],\n  '2015-09': ['3708276']},\n '81': {'2015-14': ['5038901'],\n  '2015-12': ['8602136'],\n  '2015-13': ['2643982'],\n  '2015-11': ['995605'],\n  '2015-15': ['4064517']},\n '51': {'2015-11': ['6335332'],\n  '2015-13': ['6909473'],\n  '2015-15': ['936499'],\n  '2015-14': ['5558416'],\n  '2015-18': ['2486479'],\n  '2015-16': ['9441056'],\n  '2015-10': ['6084963'],\n  '2015-12': ['8748196'],\n  '2015-17': ['9455129'],\n  '2015-09': ['6275405'],\n  '2015-19': ['2068846']},\n '59': {'2015-14': ['5928161'],\n  '2015-15': ['6611866'],\n  '2015-16': ['6484638'],\n  '2015-13': ['834895'],\n  '2015-17': ['731383'],\n  '2015-12': ['130043'],\n  '2015-10': ['7338669'],\n  '2015-18': ['9716837'],\n  '2015-11': ['5837378'],\n  '2015-09': ['797501'],\n  '2015-19': ['4677321']},\n '15': {'2015-09': ['1125336'],\n  '2015-10': ['1125336'],\n  '2015-11': ['3437488']},\n '72': {'2015-12': ['9170350'],\n  '2015-16': ['2141148'],\n  '2015-15': ['3443950'],\n  '2015-17': ['7153570'],\n  '2015-11': ['987113'],\n  '2015-14': ['9828466'],\n  '2015-13': ['9832124'],\n  '2015-18': ['5565762'],\n  '2015-19': ['8489874'],\n  '2015-09': ['49326'],\n  '2015-10': ['8878999']},\n '26': {'2015-12': ['425946'],\n  '2015-10': ['1593525'],\n  '2015-11': ['9261979'],\n  '2015-17': ['5795835'],\n  '2015-09': ['973299'],\n  '2015-18': ['9871600']},\n '9': {'2015-10': ['5387764'],\n  '2015-14': ['5472226'],\n  '2015-15': ['9134914'],\n  '2015-11': ['7512150'],\n  '2015-18': ['3108833'],\n  '2015-09': ['890610'],\n  '2015-12': ['6713045']},\n '24': {'2015-18': ['5448263'],\n  '2015-17': ['2120041'],\n  '2015-16': ['6989676'],\n  '2015-13': ['7730465'],\n  '2015-15': ['2612459'],\n  '2015-19': ['2721822'],\n  '2015-14': ['7730465'],\n  '2015-10': ['1657714'],\n  '2015-11': ['1578067'],\n  '2015-12': ['7195152'],\n  '2015-09': ['8265782']},\n '37': {'2015-09': ['400216'], '2015-10': ['4112369']},\n '89': {'2015-09': ['1000336'], '2015-10': ['7231616']},\n '43': {'2015-12': ['5544781'],\n  '2015-10': ['2652654'],\n  '2015-11': ['5544781'],\n  '2015-09': ['1871278']},\n '70': {'2015-11': ['5581450'],\n  '2015-13': ['3707612'],\n  '2015-12': ['8384352']},\n '69': {'2015-09': ['6609548'],\n  '2015-10': ['9381730'],\n  '2015-15': ['6866265'],\n  '2015-17': ['3187302'],\n  '2015-13': ['8800660'],\n  '2015-14': ['225959'],\n  '2015-18': ['2068846'],\n  '2015-12': ['2758171'],\n  '2015-16': ['6073723'],\n  '2015-19': ['2406039'],\n  '2015-11': ['9381730']},\n '42': {'2015-14': ['3102442'],\n  '2015-13': ['3152046'],\n  '2015-10': ['8048356'],\n  '2015-17': ['8083342'],\n  '2015-18': ['3394775'],\n  '2015-15': ['5569976'],\n  '2015-09': ['8526733'],\n  '2015-11': ['8048356'],\n  '2015-19': ['3394775'],\n  '2015-12': ['4823248'],\n  '2015-16': ['936499']},\n '38': {'2015-10': ['9693207'],\n  '2015-09': ['2574105'],\n  '2015-11': ['3652803']},\n '13': {'2015-16': ['7251585'],\n  '2015-13': ['6450776'],\n  '2015-12': ['5482136'],\n  '2015-11': ['5869518'],\n  '2015-09': ['1560316'],\n  '2015-14': ['9937022'],\n  '2015-15': ['1652420'],\n  '2015-10': ['2449111']},\n '54': {'2015-09': ['4774141'],\n  '2015-13': ['5629943'],\n  '2015-12': ['3885458'],\n  '2015-10': ['400216']},\n '35': {'2015-15': ['4597583'],\n  '2015-14': ['9134914'],\n  '2015-12': ['5609149'],\n  '2015-13': ['7366487'],\n  '2015-09': ['4895955']},\n '44': {'2015-10': ['4905321'],\n  '2015-11': ['2011162'],\n  '2015-09': ['3314911'],\n  '2015-14': ['7814377']},\n '16': {'2015-09': ['3334430'],\n  '2015-10': ['7220196'],\n  '2015-11': ['3702844']},\n '27': {'2015-15': ['172801'],\n  '2015-12': ['5316921'],\n  '2015-11': ['4823248'],\n  '2015-16': ['2218846'],\n  '2015-09': ['225503'],\n  '2015-10': ['225503'],\n  '2015-13': ['5687151'],\n  '2015-14': ['8533207']},\n '67': {'2015-18': ['1449376'],\n  '2015-14': ['367544'],\n  '2015-16': ['6310070'],\n  '2015-17': ['3385530'],\n  '2015-15': ['1368401'],\n  '2015-13': ['23245'],\n  '2015-11': ['7522423'],\n  '2015-12': ['23245'],\n  '2015-19': ['3697868'],\n  '2015-10': ['5553913'],\n  '2015-09': ['2060476']},\n '34': {'2015-10': ['2336666'], '2015-09': ['4920495']},\n '84': {'2015-13': ['6420466'],\n  '2015-12': ['1784423'],\n  '2015-11': ['4396735'],\n  '2015-14': ['6420466']},\n '17': {'2015-11': ['2063535'],\n  '2015-16': ['7744298'],\n  '2015-12': ['4845374'],\n  '2015-10': ['3618873'],\n  '2015-09': ['1461127']},\n '53': {'2015-12': ['15123'],\n  '2015-10': ['8114369'],\n  '2015-11': ['2034700'],\n  '2015-13': ['7833247']},\n '68': {'2015-16': ['2387756'],\n  '2015-18': ['8489874'],\n  '2015-14': ['2605209'],\n  '2015-19': ['5358715'],\n  '2015-13': ['5316921'],\n  '2015-11': ['9640527'],\n  '2015-12': ['5260597'],\n  '2015-17': ['2137842'],\n  '2015-09': ['2800697'],\n  '2015-15': ['3334312'],\n  '2015-10': ['2034700']},\n '66': {'2015-14': ['6740392'],\n  '2015-12': ['5075057'],\n  '2015-13': ['3225305'],\n  '2015-11': ['1174786'],\n  '2015-17': ['7852595'],\n  '2015-19': ['1700860'],\n  '2015-15': ['7129324']},\n '63': {'2015-15': ['5816067'],\n  '2015-13': ['7572629'],\n  '2015-16': ['2679164'],\n  '2015-14': ['7385057'],\n  '2015-10': ['7198009'],\n  '2015-12': ['7778063'],\n  '2015-18': ['7073779'],\n  '2015-17': ['2851848']}}"
     },
     "execution_count": 49,
     "metadata": {},
     "output_type": "execute_result"
    }
   ],
   "source": [
    "result_dict = {}\n",
    "e = df\n",
    "\n",
    "while e.shape[0] != 0:\n",
    "    e = e.sort_values(['percentage'], ascending=False)\n",
    "\n",
    "    row = e.iloc[0]\n",
    "    ano_id = row['target_id']\n",
    "    week_year = row['week_year']\n",
    "    src_id = row['source_id']\n",
    "\n",
    "    if str(src_id) not in result_dict:\n",
    "        result_dict[str(src_id)] = {week_year: [str(ano_id)]}\n",
    "    else:\n",
    "        result_dict[str(src_id)][week_year] = [str(ano_id)]\n",
    "\n",
    "    e = e[~((e['target_id'] == ano_id) & (e['week_year'] == week_year))]\n",
    "    e = e[~((e['source_id'] == src_id) & (e['week_year'] == week_year))]\n",
    "\n",
    "result_dict"
   ],
   "metadata": {
    "collapsed": false,
    "pycharm": {
     "name": "#%%\n"
    }
   }
  },
  {
   "cell_type": "code",
   "execution_count": 50,
   "outputs": [],
   "source": [
    "from collections import OrderedDict\n",
    "\n",
    "ordered_dict = OrderedDict(sorted((int(key), value) for key, value in result_dict.items()))\n",
    "\n",
    "for key, value in ordered_dict.items():\n",
    "    ordered_dict[key] = OrderedDict(sorted(value.items()))"
   ],
   "metadata": {
    "collapsed": false,
    "pycharm": {
     "name": "#%%\n"
    }
   }
  },
  {
   "cell_type": "code",
   "execution_count": 51,
   "outputs": [],
   "source": [
    "import json\n",
    "\n",
    "result_json = json.dumps(ordered_dict, indent=2)\n",
    "with open(attack_file, 'w') as file:\n",
    "    file.write(result_json)"
   ],
   "metadata": {
    "collapsed": false,
    "pycharm": {
     "name": "#%%\n"
    }
   }
  }
 ],
 "metadata": {
  "kernelspec": {
   "display_name": "Python 3",
   "language": "python",
   "name": "python3"
  },
  "language_info": {
   "codemirror_mode": {
    "name": "ipython",
    "version": 2
   },
   "file_extension": ".py",
   "mimetype": "text/x-python",
   "name": "python",
   "nbconvert_exporter": "python",
   "pygments_lexer": "ipython2",
   "version": "2.7.6"
  }
 },
 "nbformat": 4,
 "nbformat_minor": 0
}
